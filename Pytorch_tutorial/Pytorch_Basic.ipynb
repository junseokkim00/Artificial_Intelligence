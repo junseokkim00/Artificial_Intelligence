{
  "nbformat": 4,
  "nbformat_minor": 0,
  "metadata": {
    "colab": {
      "provenance": []
    },
    "kernelspec": {
      "name": "python3",
      "display_name": "Python 3"
    },
    "language_info": {
      "name": "python"
    }
  },
  "cells": [
    {
      "cell_type": "markdown",
      "source": [
        "# 1. Pytorch Basics\n",
        "\n",
        "## 1-1 Basic configuration\n",
        "\n",
        "### torch\n",
        "* main namespace, various function are contained, similar to Numpy\n",
        "\n",
        "### torch.autograd\n",
        "* functions for computing gradients automatically.\n",
        "* Could setup using enable_grad/no_grad\n",
        "* contains Function class\n",
        "\n",
        "### torch.nn\n",
        "* Have various data structure and layers for neural network\n",
        "* For instance, RNN, LSTM layers, activation function, loss function\n",
        "\n",
        "### torch.optim\n",
        "* implemented parameter optimization based on SGD\n",
        "\n",
        "### torch.utils.data\n",
        "* Have utils function for mini-batch in repetition SGD computation\n",
        "\n",
        "### torch.onnx\n",
        "* ONNX: Open Neural Network Exchange\n",
        "* ONNX used as a format to export the model"
      ],
      "metadata": {
        "id": "3h9kWSaCSWmB"
      }
    },
    {
      "cell_type": "markdown",
      "source": [
        "## 1-2 Tensor Manipulation\n",
        "\n",
        "### Goal\n",
        "* understand vector, Matrix, Tensor\n",
        "* How to use vector, Matrix and Tensor in Numpy and Pytorch\n",
        "\n",
        "1. Vector, Matrix, Tensor\n",
        "2. Numpy Review\n",
        "3. PyTorch Tensor Allocation\n",
        "4. Matrix Multiplication\n",
        "5. Other Basic Ops"
      ],
      "metadata": {
        "id": "A2SbpT1eTuwG"
      }
    },
    {
      "cell_type": "markdown",
      "source": [
        "### 1. Vector, Matrix, Tensor\n",
        "\n",
        "* Vector: 1차원으로 구성된 값 (x)\n",
        "* Matrix: 2차원으로 구성된 값 (x, y)\n",
        "* Tensor: 3차원 이상 구성된 값 (x, y ,z)"
      ],
      "metadata": {
        "id": "c5ovPSUXUqXY"
      }
    },
    {
      "cell_type": "markdown",
      "source": [
        "### 2. Make tensor from Numpy"
      ],
      "metadata": {
        "id": "0o8GaJ2xpiMs"
      }
    },
    {
      "cell_type": "code",
      "execution_count": 1,
      "metadata": {
        "id": "oFZg0HR_SUCp"
      },
      "outputs": [],
      "source": [
        "import numpy as np"
      ]
    },
    {
      "cell_type": "code",
      "source": [
        "t = np.array([i for i in range(0,7)])\n",
        "print(t)"
      ],
      "metadata": {
        "colab": {
          "base_uri": "https://localhost:8080/"
        },
        "id": "4u-mWsfeoY0n",
        "outputId": "bda12132-4997-4d2f-8118-267dd98a6170"
      },
      "execution_count": 4,
      "outputs": [
        {
          "output_type": "stream",
          "name": "stdout",
          "text": [
            "[0 1 2 3 4 5 6]\n"
          ]
        }
      ]
    },
    {
      "cell_type": "markdown",
      "source": [
        "* Rank: 현재 텐서의 차원\n",
        "* shape: 크기"
      ],
      "metadata": {
        "id": "70p4TKJiooil"
      }
    },
    {
      "cell_type": "code",
      "source": [
        "print(\"Rank of t: {}\".format(t.ndim))\n",
        "print(\"Shape of t: {}\".format(t.shape))"
      ],
      "metadata": {
        "colab": {
          "base_uri": "https://localhost:8080/"
        },
        "id": "1i81dn9moiBB",
        "outputId": "4347b26d-d321-4248-cc3b-86a7411dc7e1"
      },
      "execution_count": 7,
      "outputs": [
        {
          "output_type": "stream",
          "name": "stdout",
          "text": [
            "Rank of t: 1\n",
            "Shape of t: (7,)\n"
          ]
        }
      ]
    },
    {
      "cell_type": "code",
      "source": [
        "for i in range(0,7):\n",
        "  print(t[i])"
      ],
      "metadata": {
        "colab": {
          "base_uri": "https://localhost:8080/"
        },
        "id": "Z0uKoIczo8hA",
        "outputId": "96b1b0a1-5eaa-4668-bf21-c6b7f1bc7569"
      },
      "execution_count": 9,
      "outputs": [
        {
          "output_type": "stream",
          "name": "stdout",
          "text": [
            "0\n",
            "1\n",
            "2\n",
            "3\n",
            "4\n",
            "5\n",
            "6\n"
          ]
        }
      ]
    },
    {
      "cell_type": "code",
      "source": [
        "print(t[2:5]) #slicing"
      ],
      "metadata": {
        "colab": {
          "base_uri": "https://localhost:8080/"
        },
        "id": "Oy2eK6SbpMZm",
        "outputId": "85fcc43a-b3b8-4672-cce5-1d73f4f3722e"
      },
      "execution_count": 10,
      "outputs": [
        {
          "output_type": "stream",
          "name": "stdout",
          "text": [
            "[2 3 4]\n"
          ]
        }
      ]
    },
    {
      "cell_type": "code",
      "source": [
        "t = np.array([[1,2], [3,4]])\n",
        "print(t)"
      ],
      "metadata": {
        "colab": {
          "base_uri": "https://localhost:8080/"
        },
        "id": "dmzFZMolpVcm",
        "outputId": "7256d21e-d291-4e3e-ec98-ba4ef9c0cda9"
      },
      "execution_count": 11,
      "outputs": [
        {
          "output_type": "stream",
          "name": "stdout",
          "text": [
            "[[1 2]\n",
            " [3 4]]\n"
          ]
        }
      ]
    },
    {
      "cell_type": "code",
      "source": [
        "print(\"Rank of t: {}\".format(t.ndim))\n",
        "print(\"Shape of t: {}\".format(t.shape))"
      ],
      "metadata": {
        "colab": {
          "base_uri": "https://localhost:8080/"
        },
        "id": "ASlvNBrspzVe",
        "outputId": "1bd59c80-5221-4197-a813-3fe32fb4ed98"
      },
      "execution_count": 12,
      "outputs": [
        {
          "output_type": "stream",
          "name": "stdout",
          "text": [
            "Rank of t: 2\n",
            "Shape of t: (2, 2)\n"
          ]
        }
      ]
    },
    {
      "cell_type": "code",
      "source": [
        "print(t[:,0])"
      ],
      "metadata": {
        "colab": {
          "base_uri": "https://localhost:8080/"
        },
        "id": "1yocKpe0p4TR",
        "outputId": "708fcf06-a002-4f6e-bfe1-995cf3f6e57b"
      },
      "execution_count": 14,
      "outputs": [
        {
          "output_type": "stream",
          "name": "stdout",
          "text": [
            "[1 3]\n"
          ]
        }
      ]
    },
    {
      "cell_type": "markdown",
      "source": [
        "### 3. Tensor from Pytorch "
      ],
      "metadata": {
        "id": "pZC5qI6WqBKN"
      }
    },
    {
      "cell_type": "code",
      "source": [
        "import torch"
      ],
      "metadata": {
        "id": "LjFZQBEGp8sh"
      },
      "execution_count": 15,
      "outputs": []
    },
    {
      "cell_type": "code",
      "source": [
        "t = torch.FloatTensor([0.,1.,2.,3.,4.,5.,6.])\n",
        "print(type(t),t)"
      ],
      "metadata": {
        "colab": {
          "base_uri": "https://localhost:8080/"
        },
        "id": "1xkZyHKpqGUI",
        "outputId": "2a90c116-40ab-405d-a2f7-25b88f13a91b"
      },
      "execution_count": 19,
      "outputs": [
        {
          "output_type": "stream",
          "name": "stdout",
          "text": [
            "<class 'torch.Tensor'> tensor([0., 1., 2., 3., 4., 5., 6.])\n"
          ]
        }
      ]
    },
    {
      "cell_type": "code",
      "source": [
        "print(\"Rank of t: \", t.dim())\n",
        "print(\"Shape of t: \",t.shape)\n",
        "print(\"size of t: \",t.size())"
      ],
      "metadata": {
        "colab": {
          "base_uri": "https://localhost:8080/"
        },
        "id": "hvygd3CDqN_q",
        "outputId": "89a10c59-40fb-4cc2-c18c-87c93adaa0bc"
      },
      "execution_count": 20,
      "outputs": [
        {
          "output_type": "stream",
          "name": "stdout",
          "text": [
            "Rank of t:  1\n",
            "Shape of t:  torch.Size([7])\n",
            "size of t:  torch.Size([7])\n"
          ]
        }
      ]
    },
    {
      "cell_type": "code",
      "source": [
        "print(t[2:5]) #slicing"
      ],
      "metadata": {
        "colab": {
          "base_uri": "https://localhost:8080/"
        },
        "id": "m9cdNvdBqmMW",
        "outputId": "c88becde-47c9-4b8c-e0e6-b6eddde88324"
      },
      "execution_count": 21,
      "outputs": [
        {
          "output_type": "stream",
          "name": "stdout",
          "text": [
            "tensor([2., 3., 4.])\n"
          ]
        }
      ]
    },
    {
      "cell_type": "code",
      "source": [
        "t = torch.FloatTensor([\n",
        "    [1.,2.,3.],\n",
        "    [4.,5.,6.]\n",
        "])\n",
        "print(t)"
      ],
      "metadata": {
        "colab": {
          "base_uri": "https://localhost:8080/"
        },
        "id": "CVYU3XOdqqvV",
        "outputId": "12a948cf-df2f-4b18-a8c4-415dc06a204f"
      },
      "execution_count": 22,
      "outputs": [
        {
          "output_type": "stream",
          "name": "stdout",
          "text": [
            "tensor([[1., 2., 3.],\n",
            "        [4., 5., 6.]])\n"
          ]
        }
      ]
    },
    {
      "cell_type": "code",
      "source": [
        "print(t.dim())\n",
        "print(t.shape)"
      ],
      "metadata": {
        "colab": {
          "base_uri": "https://localhost:8080/"
        },
        "id": "W88fLghMrBVb",
        "outputId": "e6d007d8-c661-4fbf-b011-3e0d9bd2fd50"
      },
      "execution_count": 23,
      "outputs": [
        {
          "output_type": "stream",
          "name": "stdout",
          "text": [
            "2\n",
            "torch.Size([2, 3])\n"
          ]
        }
      ]
    },
    {
      "cell_type": "code",
      "source": [
        "print(t[:,1])"
      ],
      "metadata": {
        "colab": {
          "base_uri": "https://localhost:8080/"
        },
        "id": "dD1ZnWL0rE-i",
        "outputId": "39893244-9af0-4fc5-ec39-6b5be90f1267"
      },
      "execution_count": 24,
      "outputs": [
        {
          "output_type": "stream",
          "name": "stdout",
          "text": [
            "tensor([2., 5.])\n"
          ]
        }
      ]
    },
    {
      "cell_type": "code",
      "source": [
        "print(t[:,:-1]) # 마지막 열 빼고 모두 가져옴"
      ],
      "metadata": {
        "colab": {
          "base_uri": "https://localhost:8080/"
        },
        "id": "fVVv-ij-rKWT",
        "outputId": "cad08818-9def-44e6-c63d-22e023487a5a"
      },
      "execution_count": 28,
      "outputs": [
        {
          "output_type": "stream",
          "name": "stdout",
          "text": [
            "tensor([[1., 2.],\n",
            "        [4., 5.]])\n"
          ]
        }
      ]
    },
    {
      "cell_type": "markdown",
      "source": [
        "### 3. Broadcasting\n",
        "Pytorch automatically helps two different matrix to match size and compute operation"
      ],
      "metadata": {
        "id": "iZj7WcW9rYJ7"
      }
    },
    {
      "cell_type": "code",
      "source": [
        "m1 = torch.FloatTensor([[3.,3.]])\n",
        "m2= torch.FloatTensor([[2.,2.]])\n",
        "print(m1+m2)"
      ],
      "metadata": {
        "colab": {
          "base_uri": "https://localhost:8080/"
        },
        "id": "3mmos5AOrRe_",
        "outputId": "c0874df6-f2e2-483e-8b95-a74e0c32b552"
      },
      "execution_count": 29,
      "outputs": [
        {
          "output_type": "stream",
          "name": "stdout",
          "text": [
            "tensor([[5., 5.]])\n"
          ]
        }
      ]
    },
    {
      "cell_type": "code",
      "source": [
        "# Vector + Scalar\n",
        "m1 = torch.FloatTensor([[1,2]])\n",
        "m2 = torch.FloatTensor([3])\n",
        "print(m1+m2)"
      ],
      "metadata": {
        "colab": {
          "base_uri": "https://localhost:8080/"
        },
        "id": "FOtUhyT3r2yI",
        "outputId": "27991b1e-36c8-4ed9-90f6-6b5d37907be8"
      },
      "execution_count": 30,
      "outputs": [
        {
          "output_type": "stream",
          "name": "stdout",
          "text": [
            "tensor([[4., 5.]])\n"
          ]
        }
      ]
    },
    {
      "cell_type": "markdown",
      "source": [
        "위의 예시를 보면 m1.shape = (1,2), m2.shape = (1)이므로 m2는 자동적으로 (1,2)가 되어 자신의 값을 복제하여 m1의 shape에 맞춰 더해진다."
      ],
      "metadata": {
        "id": "39n5YXMKsKNk"
      }
    },
    {
      "cell_type": "code",
      "source": [
        "m1 = torch.FloatTensor([[1, 2]])\n",
        "m2 = torch.FloatTensor([[3], [4]])\n",
        "print(m1 + m2)"
      ],
      "metadata": {
        "colab": {
          "base_uri": "https://localhost:8080/"
        },
        "id": "pYC-UjfgsBBv",
        "outputId": "2ce8e7b9-dbc2-4d7e-fa24-56a2e060cc19"
      },
      "execution_count": 31,
      "outputs": [
        {
          "output_type": "stream",
          "name": "stdout",
          "text": [
            "tensor([[4., 5.],\n",
            "        [5., 6.]])\n"
          ]
        }
      ]
    },
    {
      "cell_type": "markdown",
      "source": [
        "### 4. Frequently used utilities"
      ],
      "metadata": {
        "id": "imFE7AzkshkG"
      }
    },
    {
      "cell_type": "markdown",
      "source": [
        "**4-1 Matmul**"
      ],
      "metadata": {
        "id": "6zIr_207wxIy"
      }
    },
    {
      "cell_type": "code",
      "source": [
        "m1 = torch.FloatTensor([[1, 2], [3, 4]])\n",
        "m2 = torch.FloatTensor([[1], [2]])\n",
        "print('Shape of Matrix 1: ', m1.shape)\n",
        "print('Shape of Matrix 2: ', m2.shape)\n",
        "print(m1.matmul(m2))\n",
        "print(m1 @ m2)"
      ],
      "metadata": {
        "colab": {
          "base_uri": "https://localhost:8080/"
        },
        "id": "uCgvd55esZsJ",
        "outputId": "789e9036-b7f4-4aea-9c6b-3e9dd4dbd93d"
      },
      "execution_count": 32,
      "outputs": [
        {
          "output_type": "stream",
          "name": "stdout",
          "text": [
            "Shape of Matrix 1:  torch.Size([2, 2])\n",
            "Shape of Matrix 2:  torch.Size([2, 1])\n",
            "tensor([[ 5.],\n",
            "        [11.]])\n",
            "tensor([[ 5.],\n",
            "        [11.]])\n"
          ]
        }
      ]
    },
    {
      "cell_type": "markdown",
      "source": [
        "**4-2 element-wise multiplication**"
      ],
      "metadata": {
        "id": "Cm2-Ckl0w32N"
      }
    },
    {
      "cell_type": "code",
      "source": [
        "m1 = torch.FloatTensor([[1, 2], [3, 4]])\n",
        "m2 = torch.FloatTensor([[1], [2]])\n",
        "print('Shape of Matrix 1: ', m1.shape)\n",
        "print('Shape of Matrix 2: ', m2.shape)\n",
        "print(m1.mul(m2))\n",
        "print(m1 * m2)"
      ],
      "metadata": {
        "colab": {
          "base_uri": "https://localhost:8080/"
        },
        "id": "HrBcFTP9sl4X",
        "outputId": "1b758ea1-0a48-4685-945c-538cc87fa2fa"
      },
      "execution_count": 33,
      "outputs": [
        {
          "output_type": "stream",
          "name": "stdout",
          "text": [
            "Shape of Matrix 1:  torch.Size([2, 2])\n",
            "Shape of Matrix 2:  torch.Size([2, 1])\n",
            "tensor([[1., 2.],\n",
            "        [6., 8.]])\n",
            "tensor([[1., 2.],\n",
            "        [6., 8.]])\n"
          ]
        }
      ]
    },
    {
      "cell_type": "markdown",
      "source": [
        "위의 곱셈은 element wise 곱을 수행하게 되는데 이때 broadcasting이 일어난 후, 각 원소끼리 곱하게 된다."
      ],
      "metadata": {
        "id": "LhQqTXF-tDyM"
      }
    },
    {
      "cell_type": "markdown",
      "source": [
        "**4-3 mean**"
      ],
      "metadata": {
        "id": "0JyECB0zw8Hp"
      }
    },
    {
      "cell_type": "code",
      "source": [
        "t = torch.FloatTensor([1, 2])\n",
        "print(t.mean())"
      ],
      "metadata": {
        "colab": {
          "base_uri": "https://localhost:8080/"
        },
        "id": "0Jjg6mNOs9nW",
        "outputId": "e36c213e-a6c6-4253-fe96-af63bf554162"
      },
      "execution_count": 34,
      "outputs": [
        {
          "output_type": "stream",
          "name": "stdout",
          "text": [
            "tensor(1.5000)\n"
          ]
        }
      ]
    },
    {
      "cell_type": "code",
      "source": [
        "t = torch.FloatTensor([\n",
        "    [1, 2],\n",
        "    [3, 4]\n",
        "])"
      ],
      "metadata": {
        "id": "aG6RDCo2tP0L"
      },
      "execution_count": 35,
      "outputs": []
    },
    {
      "cell_type": "code",
      "source": [
        "print(t.mean())\n",
        "print(t.mean(dim=0))\n",
        "print(t.mean(dim=-1))"
      ],
      "metadata": {
        "colab": {
          "base_uri": "https://localhost:8080/"
        },
        "id": "jPQRb4tPtb-H",
        "outputId": "4ca8d2a5-d921-44ee-e177-84dd76e22b06"
      },
      "execution_count": 36,
      "outputs": [
        {
          "output_type": "stream",
          "name": "stdout",
          "text": [
            "tensor(2.5000)\n",
            "tensor([2., 3.])\n",
            "tensor([1.5000, 3.5000])\n"
          ]
        }
      ]
    },
    {
      "cell_type": "markdown",
      "source": [
        "mean에 dim 인자를 줌으로써, 주어진 dim 인자는 차원을 잃게 된다. dim=0인 경우, 행의 의미는 사라지고 열만 판단하게 된다."
      ],
      "metadata": {
        "id": "_mGA6t21tyIm"
      }
    },
    {
      "cell_type": "markdown",
      "source": [
        "**4-4 sum**"
      ],
      "metadata": {
        "id": "FHGQ9tuXw_Fg"
      }
    },
    {
      "cell_type": "code",
      "source": [
        "print(t.sum())\n",
        "print(t.sum(dim=0))\n",
        "print(t.sum(dim=-1))"
      ],
      "metadata": {
        "colab": {
          "base_uri": "https://localhost:8080/"
        },
        "id": "3ujaGWATuHvW",
        "outputId": "a1fbb3e6-f1b7-43af-e188-e513127d8429"
      },
      "execution_count": 37,
      "outputs": [
        {
          "output_type": "stream",
          "name": "stdout",
          "text": [
            "tensor(10.)\n",
            "tensor([4., 6.])\n",
            "tensor([3., 7.])\n"
          ]
        }
      ]
    },
    {
      "cell_type": "markdown",
      "source": [
        "**4-5 max, argmax**"
      ],
      "metadata": {
        "id": "Q4pHOGChxBkW"
      }
    },
    {
      "cell_type": "code",
      "source": [
        "print(t.max())\n",
        "print(t.max(dim=-1))\n",
        "print(\"t max value: \",t.max(dim=0)[0])\n",
        "print(\"t argmax value: \",t.max(dim=0)[1])"
      ],
      "metadata": {
        "colab": {
          "base_uri": "https://localhost:8080/"
        },
        "id": "3HwsSVJFtxYB",
        "outputId": "8be0bb4b-ec69-4d55-e199-5dce2ed5fa58"
      },
      "execution_count": 41,
      "outputs": [
        {
          "output_type": "stream",
          "name": "stdout",
          "text": [
            "tensor(4.)\n",
            "torch.return_types.max(\n",
            "values=tensor([2., 4.]),\n",
            "indices=tensor([1, 1]))\n",
            "t max value:  tensor([3., 4.])\n",
            "t argmax value:  tensor([1, 1])\n"
          ]
        }
      ]
    },
    {
      "cell_type": "markdown",
      "source": [
        "## 1-3 Tensor Manipulation2\n"
      ],
      "metadata": {
        "id": "EfNPugOMvhNc"
      }
    },
    {
      "cell_type": "markdown",
      "source": [
        "**4-6 view**\n",
        "\n",
        "\n",
        "Changing the size of Tensor without changing the number of elements"
      ],
      "metadata": {
        "id": "lEiPNPKKvojO"
      }
    },
    {
      "cell_type": "code",
      "source": [
        "t = np.array([[[0, 1, 2],\n",
        "               [3, 4, 5]],\n",
        "              [[6, 7, 8],\n",
        "               [9, 10, 11]]])\n",
        "ft = torch.FloatTensor(t)\n",
        "print(ft.shape)"
      ],
      "metadata": {
        "colab": {
          "base_uri": "https://localhost:8080/"
        },
        "id": "rquZ605Nuivw",
        "outputId": "acbd4842-a0fa-4409-c60b-15bc9ef0f76b"
      },
      "execution_count": 42,
      "outputs": [
        {
          "output_type": "stream",
          "name": "stdout",
          "text": [
            "torch.Size([2, 2, 3])\n"
          ]
        }
      ]
    },
    {
      "cell_type": "code",
      "source": [
        "print(ft)\n",
        "print(ft.view(-1,3))\n",
        "print(t)\n",
        "print(t.reshape(-1, 3))"
      ],
      "metadata": {
        "colab": {
          "base_uri": "https://localhost:8080/"
        },
        "id": "3ERbH_aGwKwF",
        "outputId": "5966c2cd-2cb6-480e-a03c-96f4c85d21b1"
      },
      "execution_count": 43,
      "outputs": [
        {
          "output_type": "stream",
          "name": "stdout",
          "text": [
            "tensor([[[ 0.,  1.,  2.],\n",
            "         [ 3.,  4.,  5.]],\n",
            "\n",
            "        [[ 6.,  7.,  8.],\n",
            "         [ 9., 10., 11.]]])\n",
            "tensor([[ 0.,  1.,  2.],\n",
            "        [ 3.,  4.,  5.],\n",
            "        [ 6.,  7.,  8.],\n",
            "        [ 9., 10., 11.]])\n",
            "[[[ 0  1  2]\n",
            "  [ 3  4  5]]\n",
            "\n",
            " [[ 6  7  8]\n",
            "  [ 9 10 11]]]\n",
            "[[ 0  1  2]\n",
            " [ 3  4  5]\n",
            " [ 6  7  8]\n",
            " [ 9 10 11]]\n"
          ]
        }
      ]
    },
    {
      "cell_type": "code",
      "source": [
        "print(ft.view(-1, 1, 3))\n",
        "print(ft.view(-1, 1, 3).shape)"
      ],
      "metadata": {
        "colab": {
          "base_uri": "https://localhost:8080/"
        },
        "id": "O9NWt0TWwU7-",
        "outputId": "802e9351-01fd-407e-be27-caafb316971b"
      },
      "execution_count": 44,
      "outputs": [
        {
          "output_type": "stream",
          "name": "stdout",
          "text": [
            "tensor([[[ 0.,  1.,  2.]],\n",
            "\n",
            "        [[ 3.,  4.,  5.]],\n",
            "\n",
            "        [[ 6.,  7.,  8.]],\n",
            "\n",
            "        [[ 9., 10., 11.]]])\n",
            "torch.Size([4, 1, 3])\n"
          ]
        }
      ]
    },
    {
      "cell_type": "markdown",
      "source": [
        "**4-7 squeeze**\n",
        "\n",
        "\n",
        "remove dimension which is 1"
      ],
      "metadata": {
        "id": "Am2bsjwExHcH"
      }
    },
    {
      "cell_type": "code",
      "source": [
        "ft = ft.view(-1, 1, 3)\n",
        "print(ft)\n",
        "print(ft.shape)\n",
        "print(ft.squeeze())\n",
        "print(ft.squeeze().shape)"
      ],
      "metadata": {
        "colab": {
          "base_uri": "https://localhost:8080/"
        },
        "id": "BpfC5blbwmxP",
        "outputId": "74e1e42b-8026-4029-9d2d-1ab95b850cfb"
      },
      "execution_count": 46,
      "outputs": [
        {
          "output_type": "stream",
          "name": "stdout",
          "text": [
            "tensor([[[ 0.,  1.,  2.]],\n",
            "\n",
            "        [[ 3.,  4.,  5.]],\n",
            "\n",
            "        [[ 6.,  7.,  8.]],\n",
            "\n",
            "        [[ 9., 10., 11.]]])\n",
            "torch.Size([4, 1, 3])\n",
            "tensor([[ 0.,  1.,  2.],\n",
            "        [ 3.,  4.,  5.],\n",
            "        [ 6.,  7.,  8.],\n",
            "        [ 9., 10., 11.]])\n",
            "torch.Size([4, 3])\n"
          ]
        }
      ]
    },
    {
      "cell_type": "markdown",
      "source": [
        "**4-8 Unsqueeze**\n",
        "\n",
        "\n",
        "add dimension in a specific position"
      ],
      "metadata": {
        "id": "I0J8tb-PxqXz"
      }
    },
    {
      "cell_type": "code",
      "source": [
        "ft = ft.squeeze()\n",
        "print(ft.shape)\n",
        "print(ft.unsqueeze(1).shape)"
      ],
      "metadata": {
        "colab": {
          "base_uri": "https://localhost:8080/"
        },
        "id": "EKofJ918xiRF",
        "outputId": "fc03776a-3b3a-449d-c020-44e8129be10b"
      },
      "execution_count": 47,
      "outputs": [
        {
          "output_type": "stream",
          "name": "stdout",
          "text": [
            "torch.Size([4, 3])\n",
            "torch.Size([4, 1, 3])\n"
          ]
        }
      ]
    },
    {
      "cell_type": "markdown",
      "source": [
        "> view(), squeeze(), unsqueeze()는 텐서의 원소 수를 그대로 유지하면서 모양과 차원을 조절한다."
      ],
      "metadata": {
        "id": "pLs5RJmTyYWf"
      }
    },
    {
      "cell_type": "markdown",
      "source": [
        "**4-8 Type Casting**\n",
        "\n",
        "\n",
        "\n",
        "dtype을 선언할 때 텐서에 따라서 정의를 달리해준다.\n",
        "![type casting](https://wikidocs.net/images/page/52846/newimage.png)"
      ],
      "metadata": {
        "id": "-otxOBfgykXw"
      }
    },
    {
      "cell_type": "code",
      "source": [
        "lt = torch.LongTensor([1, 2, 3, 4])\n",
        "print(lt)"
      ],
      "metadata": {
        "colab": {
          "base_uri": "https://localhost:8080/"
        },
        "id": "d5yTcwUPyCU7",
        "outputId": "8f74c411-68da-446c-a2e0-19c9f75fb4d3"
      },
      "execution_count": 48,
      "outputs": [
        {
          "output_type": "stream",
          "name": "stdout",
          "text": [
            "tensor([1, 2, 3, 4])\n"
          ]
        }
      ]
    },
    {
      "cell_type": "code",
      "source": [
        "print(lt.float())"
      ],
      "metadata": {
        "colab": {
          "base_uri": "https://localhost:8080/"
        },
        "id": "p1hUp29ZziOC",
        "outputId": "2adca08c-337c-4e67-f2fe-530dd2746d17"
      },
      "execution_count": 49,
      "outputs": [
        {
          "output_type": "stream",
          "name": "stdout",
          "text": [
            "tensor([1., 2., 3., 4.])\n"
          ]
        }
      ]
    },
    {
      "cell_type": "code",
      "source": [
        "bt = torch.ByteTensor([True, False, False, True])\n",
        "print(bt)"
      ],
      "metadata": {
        "colab": {
          "base_uri": "https://localhost:8080/"
        },
        "id": "9IWqsaThzj6b",
        "outputId": "c2357996-478d-403b-9c4b-d6a30d20fab2"
      },
      "execution_count": 51,
      "outputs": [
        {
          "output_type": "stream",
          "name": "stdout",
          "text": [
            "tensor([1, 0, 0, 1], dtype=torch.uint8)\n"
          ]
        }
      ]
    },
    {
      "cell_type": "markdown",
      "source": [
        "**4-9 concatenate**\n",
        "\n",
        "\n",
        "torch를 연결하는 용도로 사용된다.\n",
        "* dim: 연장시킬 차원을 선택한다."
      ],
      "metadata": {
        "id": "2Q8nQ9X2z2uC"
      }
    },
    {
      "cell_type": "code",
      "source": [
        "x = torch.FloatTensor([[1, 2],[3, 4]])\n",
        "y = torch.FloatTensor([[5, 6],[7, 8]])\n",
        "print(torch.cat([x, y], dim=0))\n",
        "print(torch.cat([x, y], dim=-1))"
      ],
      "metadata": {
        "colab": {
          "base_uri": "https://localhost:8080/"
        },
        "id": "PKmeiixCznxA",
        "outputId": "be70018c-08e2-452f-bad1-ed6f32c93f90"
      },
      "execution_count": 54,
      "outputs": [
        {
          "output_type": "stream",
          "name": "stdout",
          "text": [
            "tensor([[1., 2.],\n",
            "        [3., 4.],\n",
            "        [5., 6.],\n",
            "        [7., 8.]])\n",
            "tensor([[1., 2., 5., 6.],\n",
            "        [3., 4., 7., 8.]])\n"
          ]
        }
      ]
    },
    {
      "cell_type": "markdown",
      "source": [
        "**4-10 stacking**\n",
        "\n",
        "\n",
        "쌓기\n",
        "* dim: stacking할 matrix의 모양을 무시하고, 증가할 차원을 선택함\n",
        "* 차원을 생각하지 않고 단순히 쌓는거여서 그림으로 그렸을 때 더욱 직관적임"
      ],
      "metadata": {
        "id": "6RuMhM522Ske"
      }
    },
    {
      "cell_type": "code",
      "source": [
        "x = torch.FloatTensor([1, 4])\n",
        "y = torch.FloatTensor([2, 5])\n",
        "z = torch.FloatTensor([3, 6])\n",
        "print(torch.stack([x, y, z]))"
      ],
      "metadata": {
        "colab": {
          "base_uri": "https://localhost:8080/"
        },
        "id": "k4uCN-E90TDS",
        "outputId": "e17829d0-fc31-475f-8d70-96b0364eaa72"
      },
      "execution_count": 55,
      "outputs": [
        {
          "output_type": "stream",
          "name": "stdout",
          "text": [
            "tensor([[1., 4.],\n",
            "        [2., 5.],\n",
            "        [3., 6.]])\n"
          ]
        }
      ]
    },
    {
      "cell_type": "code",
      "source": [
        "print(torch.stack([x, y, z], dim=-1))"
      ],
      "metadata": {
        "colab": {
          "base_uri": "https://localhost:8080/"
        },
        "id": "gn9Nfk_S2lFx",
        "outputId": "48e6a6e0-c02c-46df-b0ed-a013c1f6de4e"
      },
      "execution_count": 56,
      "outputs": [
        {
          "output_type": "stream",
          "name": "stdout",
          "text": [
            "tensor([[1., 2., 3.],\n",
            "        [4., 5., 6.]])\n"
          ]
        }
      ]
    },
    {
      "cell_type": "markdown",
      "source": [
        "**4-11 ones_like, zeros_like**\n",
        "\n",
        "\n",
        "1 또는 0으로 채워진 tensor 생성"
      ],
      "metadata": {
        "id": "hDuyAzVD3IQ-"
      }
    },
    {
      "cell_type": "code",
      "source": [
        "x = torch.FloatTensor([[0, 1, 2], [3, 4, 5]])\n",
        "print(x)"
      ],
      "metadata": {
        "colab": {
          "base_uri": "https://localhost:8080/"
        },
        "id": "ikPHKV1z2zME",
        "outputId": "f5219357-e5cf-4a5f-f8e4-71cf8f07d4f7"
      },
      "execution_count": 57,
      "outputs": [
        {
          "output_type": "stream",
          "name": "stdout",
          "text": [
            "tensor([[0., 1., 2.],\n",
            "        [3., 4., 5.]])\n"
          ]
        }
      ]
    },
    {
      "cell_type": "code",
      "source": [
        "print(torch.ones_like(x))\n",
        "print(torch.zeros_like(x))"
      ],
      "metadata": {
        "colab": {
          "base_uri": "https://localhost:8080/"
        },
        "id": "6_HnhrWi3lHC",
        "outputId": "53a5df03-2416-4eaf-f88a-d134559095c7"
      },
      "execution_count": 60,
      "outputs": [
        {
          "output_type": "stream",
          "name": "stdout",
          "text": [
            "tensor([[1., 1., 1.],\n",
            "        [1., 1., 1.]])\n",
            "tensor([[0., 0., 0.],\n",
            "        [0., 0., 0.]])\n"
          ]
        }
      ]
    },
    {
      "cell_type": "markdown",
      "source": [
        "위의 예시처럼 zeros_like 또는 ones_like의 인자로는 Tensor가 들어가야한다."
      ],
      "metadata": {
        "id": "2BlCQTID3tEd"
      }
    },
    {
      "cell_type": "markdown",
      "source": [
        "**4-12 In-place Operation(덮어쓰기 연산)**"
      ],
      "metadata": {
        "id": "lij2cBoo33rm"
      }
    },
    {
      "cell_type": "code",
      "source": [
        "x = torch.FloatTensor([\n",
        "    [1, 2],\n",
        "    [3, 4]\n",
        "])"
      ],
      "metadata": {
        "id": "o4h41E9Y3pPm"
      },
      "execution_count": 61,
      "outputs": []
    },
    {
      "cell_type": "code",
      "source": [
        "print(x.mul(2))\n",
        "print(x)"
      ],
      "metadata": {
        "colab": {
          "base_uri": "https://localhost:8080/"
        },
        "id": "qa_6P70K4BEe",
        "outputId": "4a166060-5fd2-406f-e0a6-19edd3751d06"
      },
      "execution_count": 62,
      "outputs": [
        {
          "output_type": "stream",
          "name": "stdout",
          "text": [
            "tensor([[2., 4.],\n",
            "        [6., 8.]])\n",
            "tensor([[1., 2.],\n",
            "        [3., 4.]])\n"
          ]
        }
      ]
    },
    {
      "cell_type": "markdown",
      "source": [
        "위의 연산은 element-wise mul을 실행한 것이다.\n",
        "연산 결과값은 실제 tensor(x)에 반영되지 않는다."
      ],
      "metadata": {
        "id": "HTJOUHG54N73"
      }
    },
    {
      "cell_type": "code",
      "source": [
        "print(x.mul_(2))\n",
        "print(x)"
      ],
      "metadata": {
        "colab": {
          "base_uri": "https://localhost:8080/"
        },
        "id": "9295OZxB4MPD",
        "outputId": "89f454eb-5456-49c2-8eeb-79acd793843d"
      },
      "execution_count": 63,
      "outputs": [
        {
          "output_type": "stream",
          "name": "stdout",
          "text": [
            "tensor([[2., 4.],\n",
            "        [6., 8.]])\n",
            "tensor([[2., 4.],\n",
            "        [6., 8.]])\n"
          ]
        }
      ]
    },
    {
      "cell_type": "markdown",
      "source": [
        "다음은 `mul_`을 사용하여 element-wise mul을 실행하였다. 뒤에 `_`를 붙여 연산 내용이 실제 tensor(x)에 반영되는 것을 확인할 수 있다."
      ],
      "metadata": {
        "id": "BLQqb5p64YFE"
      }
    }
  ]
}