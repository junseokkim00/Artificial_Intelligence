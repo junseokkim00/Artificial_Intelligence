{
  "cells": [
    {
      "cell_type": "markdown",
      "metadata": {
        "id": "view-in-github",
        "colab_type": "text"
      },
      "source": [
        "<a href=\"https://colab.research.google.com/github/junseokkim00/Artificial_Intelligence/blob/main/classification/%5Bassignment%5D_SVM_GridSearch.ipynb\" target=\"_parent\"><img src=\"https://colab.research.google.com/assets/colab-badge.svg\" alt=\"Open In Colab\"/></a>"
      ]
    },
    {
      "cell_type": "code",
      "source": [
        "from google.colab import drive\n",
        "drive.mount('/content/drive')"
      ],
      "metadata": {
        "colab": {
          "base_uri": "https://localhost:8080/"
        },
        "id": "1msnKHy5qM87",
        "outputId": "dc9a083c-b057-43ab-b8f2-6b1d386c203d"
      },
      "execution_count": 1,
      "outputs": [
        {
          "output_type": "stream",
          "name": "stdout",
          "text": [
            "Mounted at /content/drive\n"
          ]
        }
      ]
    },
    {
      "cell_type": "code",
      "source": [
        "cd /content/drive/MyDrive/ML_metacode_lab/classification"
      ],
      "metadata": {
        "colab": {
          "base_uri": "https://localhost:8080/"
        },
        "id": "aK6gKBDhqUmT",
        "outputId": "7e7321ef-b880-4bbd-a118-82d549498382"
      },
      "execution_count": 2,
      "outputs": [
        {
          "output_type": "stream",
          "name": "stdout",
          "text": [
            "/content/drive/MyDrive/ML_metacode_lab/classification\n"
          ]
        }
      ]
    },
    {
      "cell_type": "code",
      "execution_count": 3,
      "metadata": {
        "id": "ZmhlHvkQp_dV"
      },
      "outputs": [],
      "source": [
        "# Basic setting\n",
        "import os\n",
        "import pickle\n",
        "import numpy as np\n",
        "\n",
        "import pandas as pd\n",
        "import matplotlib.pyplot as plt\n",
        "%matplotlib inline"
      ]
    },
    {
      "cell_type": "markdown",
      "metadata": {
        "id": "ArxUcoMkp_dX"
      },
      "source": [
        "# [과제] 최적의 SVM 모델 찾기\n",
        "\n",
        "---\n",
        "\n",
        "## 본 과제의 목표는 다음과 같음\n",
        "\n",
        "1. `rbf` 커널 함수를 사용한 SVM 모델을 정의할 수 있음\n",
        "2. 학습과 평가 데이터셋을 나눌 수 있으며, 평가 데이터셋에 대한 분류 성능을 평가할 수 있음\n",
        "3. `sklearn`에서 제공하는 하이퍼파라미터 서치 툴을 사용할 수 있음\n",
        "4. SVM 모델 구현에 사용되는 하이퍼파라미터의 역할을 이해하고 분석할 수 있음"
      ]
    },
    {
      "cell_type": "markdown",
      "metadata": {
        "id": "NbtUaDAVp_dY"
      },
      "source": [
        "## [P.1] SVM 모델을 다양한 하이퍼파라미터로 학습하기\n",
        "\n",
        "`rbf` 커널 함수를 사용한 SVM 모델을 정의할 때, 다양한 하이퍼파라미터 값을 설정해서 학습하며 성능 비교하기    \n",
        "참고로, 이전 practice 파일에서처럼 학습 데이터셋이 아닌, 사이킷런 함수를 통해 만든 평가 데이터셋에 대해서 성능 평가하기"
      ]
    },
    {
      "cell_type": "code",
      "execution_count": 4,
      "metadata": {
        "id": "0jINKPWIp_dY"
      },
      "outputs": [],
      "source": [
        "# Make train and test dataset\n",
        "from sklearn.model_selection import train_test_split  # divide train and test\n",
        "from sklearn.datasets import make_moons  # moons dataset\n",
        "\n",
        "X, y = make_moons(n_samples = 1000, noise = 0.5, random_state = 42)\n",
        "X_train, X_test, y_train, y_test = train_test_split(X, y)"
      ]
    },
    {
      "cell_type": "code",
      "execution_count": 5,
      "metadata": {
        "colab": {
          "base_uri": "https://localhost:8080/",
          "height": 279
        },
        "id": "mXih4gyKp_dY",
        "outputId": "2a97d76b-63b0-4552-856f-f7cb68b262bb"
      },
      "outputs": [
        {
          "output_type": "display_data",
          "data": {
            "text/plain": [
              "<Figure size 432x288 with 1 Axes>"
            ],
            "image/png": "[encoded data removed]"
          },
          "metadata": {
            "needs_background": "light"
          }
        }
      ],
      "source": [
        "def plot_dataset(X, y):\n",
        "    plt.plot(X[:, 0][y==0], X[:, 1][y==0], \"s\")\n",
        "    plt.plot(X[:, 0][y==1], X[:, 1][y==1], \"^\")\n",
        "    \n",
        "    plt.xlabel(\"X1\")\n",
        "    plt.ylabel(\"X2\")\n",
        "    \n",
        "    \n",
        "plot_dataset(X_train, y_train)"
      ]
    },
    {
      "cell_type": "code",
      "execution_count": 6,
      "metadata": {
        "id": "x8txia0tp_dZ"
      },
      "outputs": [],
      "source": [
        "# define model with pipeline\n",
        "from sklearn.pipeline import Pipeline  # pipeline\n",
        "from sklearn.preprocessing import StandardScaler   # scaler\n",
        "from sklearn.svm import SVC   # svc"
      ]
    },
    {
      "cell_type": "code",
      "execution_count": 7,
      "metadata": {
        "id": "3jFk6hg_p_dZ"
      },
      "outputs": [],
      "source": [
        "# 평가 데이터셋에 대한 성능 확인을 위해서 sklearn.metrics 안의 함수를 사용해주세요\n",
        "from sklearn.metrics import accuracy_score"
      ]
    },
    {
      "cell_type": "code",
      "execution_count": 8,
      "metadata": {
        "id": "lXqdMxAsp_dZ"
      },
      "outputs": [],
      "source": [
        "gamma1, gamma2 = 0.1 , 1\n",
        "C1, C2 = 0.1, 10\n",
        "\n",
        "params = [(gamma1, C1), (gamma1, C2), (gamma2, C1), (gamma2, C2)]  # any combination you want!\n",
        "\n",
        "svm_clfs = []\n",
        "for g, C in params:\n",
        "    svm_clf = Pipeline([\n",
        "        (\"scaler\", StandardScaler()),\n",
        "        (\"svm_clf\",SVC(kernel=\"rbf\", gamma=g, C=C))\n",
        "    ])\n",
        "    svm_clf.fit(X_train, y_train)\n",
        "    \n",
        "    svm_clfs.append(svm_clf)"
      ]
    },
    {
      "cell_type": "code",
      "execution_count": 9,
      "metadata": {
        "id": "gcywCJE6p_dZ"
      },
      "outputs": [],
      "source": [
        "def plot_predictions(clf):\n",
        "    x0 = np.linspace(-3, 3, 100)\n",
        "    x1 = np.linspace(-3, 3, 100)\n",
        "    x0, x1 = np.meshgrid(x0, x1)\n",
        "    X = np.c_[x0.ravel(), x1.ravel()]\n",
        "    \n",
        "    y_pred = clf.predict(X)\n",
        "    y_pred = y_pred.reshape(x0.shape)\n",
        "    plt.contourf(x0, x1, y_pred, alpha=0.1)"
      ]
    },
    {
      "cell_type": "code",
      "source": [
        "x0 = np.linspace(-3, 3, 100)\n",
        "x1 = np.linspace(-3, 3, 100)\n",
        "x0, x1 = np.meshgrid(x0, x1)\n",
        "X = np.c_[x0.ravel(), x1.ravel()]\n",
        "X"
      ],
      "metadata": {
        "colab": {
          "base_uri": "https://localhost:8080/"
        },
        "id": "h-uEDzdeyIaA",
        "outputId": "555245ce-1644-4eb3-afdd-8c99a58e9345"
      },
      "execution_count": 11,
      "outputs": [
        {
          "output_type": "execute_result",
          "data": {
            "text/plain": [
              "array([[-3.        , -3.        ],\n",
              "       [-2.93939394, -3.        ],\n",
              "       [-2.87878788, -3.        ],\n",
              "       ...,\n",
              "       [ 2.87878788,  3.        ],\n",
              "       [ 2.93939394,  3.        ],\n",
              "       [ 3.        ,  3.        ]])"
            ]
          },
          "metadata": {},
          "execution_count": 11
        }
      ]
    },
    {
      "cell_type": "code",
      "execution_count": 13,
      "metadata": {
        "colab": {
          "base_uri": "https://localhost:8080/",
          "height": 1000
        },
        "id": "ztWbq-u9p_dZ",
        "outputId": "50131caa-6981-4b1d-f568-dbaf379d9101"
      },
      "outputs": [
        {
          "output_type": "stream",
          "name": "stdout",
          "text": [
            "[(0.1, 0.1)] Acc: 0.788\n",
            "[(0.1, 10)] Acc: 0.808\n",
            "[(1, 0.1)] Acc: 0.824\n",
            "[(1, 10)] Acc: 0.816\n"
          ]
        },
        {
          "output_type": "display_data",
          "data": {
            "text/plain": [
              "<Figure size 432x288 with 1 Axes>"
            ],
            "image/png": "[encoded data removed]"
          },
          "metadata": {
            "needs_background": "light"
          }
        },
        {
          "output_type": "display_data",
          "data": {
            "text/plain": [
              "<Figure size 432x288 with 1 Axes>"
            ],
            "image/png": "[encoded data removed]"
          },
          "metadata": {
            "needs_background": "light"
          }
        },
        {
          "output_type": "display_data",
          "data": {
            "text/plain": [
              "<Figure size 432x288 with 1 Axes>"
            ],
            "image/png": "[encoded data removed]"
          },
          "metadata": {
            "needs_background": "light"
          }
        },
        {
          "output_type": "display_data",
          "data": {
            "text/plain": [
              "<Figure size 432x288 with 1 Axes>"
            ],
            "image/png": "[encoded data removed]"
          },
          "metadata": {
            "needs_background": "light"
          }
        }
      ],
      "source": [
        "for i, svm_clf in enumerate(svm_clfs):\n",
        "    plt.figure(figsize=(6, 4))\n",
        "    \n",
        "    plot_dataset(X_train, y_train)\n",
        "    \n",
        "    plot_predictions(svm_clf)\n",
        "    \n",
        "    y_pred = svm_clf.predict(X_test)\n",
        "    acc = accuracy_score(y_pred, y_test)\n",
        "    \n",
        "    print('[%s] Acc: %s' % (params[i], acc))"
      ]
    },
    {
      "cell_type": "markdown",
      "metadata": {
        "id": "s3EwvVUTp_da"
      },
      "source": [
        "## [P.2] GridSearchCV를 이용해 최적의 하이퍼파라미터 찾기\n",
        "\n",
        "직접 하나부터 열까지 구현하는 것을 방지하기 위해 사이킷런에서는 유용한 툴을 제공해주고 있음    \n",
        "`sklearn`의 [`GridSearchCV`](https://scikit-learn.org/stable/modules/generated/sklearn.model_selection.GridSearchCV.html) 클래스를 이용해서 교차 검증을 구현해보기     \n",
        "`make_moons` 데이터셋에 가장 적합한 하이퍼파라미터를 찾고, 평가 데이터에 대한 최고 성능 얻기"
      ]
    },
    {
      "cell_type": "code",
      "execution_count": 15,
      "metadata": {
        "colab": {
          "base_uri": "https://localhost:8080/"
        },
        "id": "fiucWKkrp_da",
        "outputId": "491f9278-5544-4281-8141-c1839b26232b"
      },
      "outputs": [
        {
          "output_type": "execute_result",
          "data": {
            "text/plain": [
              "GridSearchCV(estimator=SVC(),\n",
              "             param_grid={'C': [0.1, 10], 'gamma': [0.1, 1],\n",
              "                         'kernel': ['linear', 'poly', 'rbf']})"
            ]
          },
          "metadata": {},
          "execution_count": 15
        }
      ],
      "source": [
        "# import gridsearchcv\n",
        "from sklearn.model_selection import GridSearchCV\n",
        "\n",
        "############################################################################\n",
        "##### 찾고싶은 하이퍼파라미터와 후보군들을 dictionary 형태로 만들어서 학습하시면 됩니다. #####\n",
        "svm_clf = SVC()\n",
        "param_grid = {'kernel' : [\"linear\", \"poly\", \"rbf\"], \"gamma\" : [0.1, 1], \"C\": [0.1, 10]}\n",
        "\n",
        "grid_search_cv = GridSearchCV(svm_clf, param_grid)\n",
        "grid_search_cv.fit(X_train, y_train)\n",
        "\n",
        "\n",
        "############################################################################"
      ]
    },
    {
      "cell_type": "code",
      "execution_count": 24,
      "metadata": {
        "colab": {
          "base_uri": "https://localhost:8080/",
          "height": 1000
        },
        "id": "ez8-8XmAp_da",
        "outputId": "5c4101a6-2ad1-446b-a045-970fb93f4775"
      },
      "outputs": [
        {
          "output_type": "execute_result",
          "data": {
            "text/plain": [
              "    mean_fit_time  std_fit_time  mean_score_time  std_score_time param_C  \\\n",
              "0        0.007273      0.001792         0.001477        0.000235     0.1   \n",
              "1        0.010954      0.000315         0.002818        0.000029     0.1   \n",
              "2        0.010367      0.000564         0.003293        0.000122     0.1   \n",
              "3        0.006049      0.000218         0.001626        0.000196     0.1   \n",
              "4        0.007789      0.000442         0.001824        0.000084     0.1   \n",
              "5        0.010419      0.001898         0.002927        0.000282     0.1   \n",
              "6        0.011647      0.001312         0.001330        0.000042      10   \n",
              "7        0.007793      0.000224         0.001974        0.000052      10   \n",
              "8        0.009168      0.000768         0.002899        0.000646      10   \n",
              "9        0.011170      0.000831         0.001677        0.000158      10   \n",
              "10       0.023912      0.002078         0.001976        0.000119      10   \n",
              "11       0.013323      0.001278         0.002375        0.000122      10   \n",
              "\n",
              "   param_gamma param_kernel                                        params  \\\n",
              "0          0.1       linear  {'C': 0.1, 'gamma': 0.1, 'kernel': 'linear'}   \n",
              "1          0.1         poly    {'C': 0.1, 'gamma': 0.1, 'kernel': 'poly'}   \n",
              "2          0.1          rbf     {'C': 0.1, 'gamma': 0.1, 'kernel': 'rbf'}   \n",
              "3            1       linear    {'C': 0.1, 'gamma': 1, 'kernel': 'linear'}   \n",
              "4            1         poly      {'C': 0.1, 'gamma': 1, 'kernel': 'poly'}   \n",
              "5            1          rbf       {'C': 0.1, 'gamma': 1, 'kernel': 'rbf'}   \n",
              "6          0.1       linear   {'C': 10, 'gamma': 0.1, 'kernel': 'linear'}   \n",
              "7          0.1         poly     {'C': 10, 'gamma': 0.1, 'kernel': 'poly'}   \n",
              "8          0.1          rbf      {'C': 10, 'gamma': 0.1, 'kernel': 'rbf'}   \n",
              "9            1       linear     {'C': 10, 'gamma': 1, 'kernel': 'linear'}   \n",
              "10           1         poly       {'C': 10, 'gamma': 1, 'kernel': 'poly'}   \n",
              "11           1          rbf        {'C': 10, 'gamma': 1, 'kernel': 'rbf'}   \n",
              "\n",
              "    split0_test_score  split1_test_score  split2_test_score  \\\n",
              "0            0.773333           0.820000           0.820000   \n",
              "1            0.586667           0.640000           0.573333   \n",
              "2            0.780000           0.813333           0.813333   \n",
              "3            0.773333           0.820000           0.820000   \n",
              "4            0.720000           0.813333           0.753333   \n",
              "5            0.786667           0.826667           0.826667   \n",
              "6            0.773333           0.820000           0.820000   \n",
              "7            0.740000           0.773333           0.720000   \n",
              "8            0.773333           0.820000           0.813333   \n",
              "9            0.773333           0.820000           0.820000   \n",
              "10           0.740000           0.806667           0.813333   \n",
              "11           0.753333           0.833333           0.846667   \n",
              "\n",
              "    split3_test_score  split4_test_score  mean_test_score  std_test_score  \\\n",
              "0            0.840000           0.813333         0.813333        0.021909   \n",
              "1            0.613333           0.606667         0.604000        0.022940   \n",
              "2            0.820000           0.813333         0.808000        0.014236   \n",
              "3            0.840000           0.813333         0.813333        0.021909   \n",
              "4            0.780000           0.806667         0.774667        0.034615   \n",
              "5            0.846667           0.813333         0.820000        0.019777   \n",
              "6            0.833333           0.813333         0.812000        0.020396   \n",
              "7            0.733333           0.746667         0.742667        0.017689   \n",
              "8            0.846667           0.813333         0.813333        0.023476   \n",
              "9            0.833333           0.813333         0.812000        0.020396   \n",
              "10           0.780000           0.806667         0.789333        0.027195   \n",
              "11           0.840000           0.806667         0.816000        0.034150   \n",
              "\n",
              "    rank_test_score  \n",
              "0                 3  \n",
              "1                12  \n",
              "2                 8  \n",
              "3                 3  \n",
              "4                10  \n",
              "5                 1  \n",
              "6                 6  \n",
              "7                11  \n",
              "8                 3  \n",
              "9                 6  \n",
              "10                9  \n",
              "11                2  "
            ],
            "text/html": [
              "\n",
              "  <div id=\"df-948ff12b-968d-4334-b808-84a42c737e2b\">\n",
              "    <div class=\"colab-df-container\">\n",
              "      <div>\n",
              "<style scoped>\n",
              "    .dataframe tbody tr th:only-of-type {\n",
              "        vertical-align: middle;\n",
              "    }\n",
              "\n",
              "    .dataframe tbody tr th {\n",
              "        vertical-align: top;\n",
              "    }\n",
              "\n",
              "    .dataframe thead th {\n",
              "        text-align: right;\n",
              "    }\n",
              "</style>\n",
              "<table border=\"1\" class=\"dataframe\">\n",
              "  <thead>\n",
              "    <tr style=\"text-align: right;\">\n",
              "      <th></th>\n",
              "      <th>mean_fit_time</th>\n",
              "      <th>std_fit_time</th>\n",
              "      <th>mean_score_time</th>\n",
              "      <th>std_score_time</th>\n",
              "      <th>param_C</th>\n",
              "      <th>param_gamma</th>\n",
              "      <th>param_kernel</th>\n",
              "      <th>params</th>\n",
              "      <th>split0_test_score</th>\n",
              "      <th>split1_test_score</th>\n",
              "      <th>split2_test_score</th>\n",
              "      <th>split3_test_score</th>\n",
              "      <th>split4_test_score</th>\n",
              "      <th>mean_test_score</th>\n",
              "      <th>std_test_score</th>\n",
              "      <th>rank_test_score</th>\n",
              "    </tr>\n",
              "  </thead>\n",
              "  <tbody>\n",
              "    <tr>\n",
              "      <th>0</th>\n",
              "      <td>0.007273</td>\n",
              "      <td>0.001792</td>\n",
              "      <td>0.001477</td>\n",
              "      <td>0.000235</td>\n",
              "      <td>0.1</td>\n",
              "      <td>0.1</td>\n",
              "      <td>linear</td>\n",
              "      <td>{'C': 0.1, 'gamma': 0.1, 'kernel': 'linear'}</td>\n",
              "      <td>0.773333</td>\n",
              "      <td>0.820000</td>\n",
              "      <td>0.820000</td>\n",
              "      <td>0.840000</td>\n",
              "      <td>0.813333</td>\n",
              "      <td>0.813333</td>\n",
              "      <td>0.021909</td>\n",
              "      <td>3</td>\n",
              "    </tr>\n",
              "    <tr>\n",
              "      <th>1</th>\n",
              "      <td>0.010954</td>\n",
              "      <td>0.000315</td>\n",
              "      <td>0.002818</td>\n",
              "      <td>0.000029</td>\n",
              "      <td>0.1</td>\n",
              "      <td>0.1</td>\n",
              "      <td>poly</td>\n",
              "      <td>{'C': 0.1, 'gamma': 0.1, 'kernel': 'poly'}</td>\n",
              "      <td>0.586667</td>\n",
              "      <td>0.640000</td>\n",
              "      <td>0.573333</td>\n",
              "      <td>0.613333</td>\n",
              "      <td>0.606667</td>\n",
              "      <td>0.604000</td>\n",
              "      <td>0.022940</td>\n",
              "      <td>12</td>\n",
              "    </tr>\n",
              "    <tr>\n",
              "      <th>2</th>\n",
              "      <td>0.010367</td>\n",
              "      <td>0.000564</td>\n",
              "      <td>0.003293</td>\n",
              "      <td>0.000122</td>\n",
              "      <td>0.1</td>\n",
              "      <td>0.1</td>\n",
              "      <td>rbf</td>\n",
              "      <td>{'C': 0.1, 'gamma': 0.1, 'kernel': 'rbf'}</td>\n",
              "      <td>0.780000</td>\n",
              "      <td>0.813333</td>\n",
              "      <td>0.813333</td>\n",
              "      <td>0.820000</td>\n",
              "      <td>0.813333</td>\n",
              "      <td>0.808000</td>\n",
              "      <td>0.014236</td>\n",
              "      <td>8</td>\n",
              "    </tr>\n",
              "    <tr>\n",
              "      <th>3</th>\n",
              "      <td>0.006049</td>\n",
              "      <td>0.000218</td>\n",
              "      <td>0.001626</td>\n",
              "      <td>0.000196</td>\n",
              "      <td>0.1</td>\n",
              "      <td>1</td>\n",
              "      <td>linear</td>\n",
              "      <td>{'C': 0.1, 'gamma': 1, 'kernel': 'linear'}</td>\n",
              "      <td>0.773333</td>\n",
              "      <td>0.820000</td>\n",
              "      <td>0.820000</td>\n",
              "      <td>0.840000</td>\n",
              "      <td>0.813333</td>\n",
              "      <td>0.813333</td>\n",
              "      <td>0.021909</td>\n",
              "      <td>3</td>\n",
              "    </tr>\n",
              "    <tr>\n",
              "      <th>4</th>\n",
              "      <td>0.007789</td>\n",
              "      <td>0.000442</td>\n",
              "      <td>0.001824</td>\n",
              "      <td>0.000084</td>\n",
              "      <td>0.1</td>\n",
              "      <td>1</td>\n",
              "      <td>poly</td>\n",
              "      <td>{'C': 0.1, 'gamma': 1, 'kernel': 'poly'}</td>\n",
              "      <td>0.720000</td>\n",
              "      <td>0.813333</td>\n",
              "      <td>0.753333</td>\n",
              "      <td>0.780000</td>\n",
              "      <td>0.806667</td>\n",
              "      <td>0.774667</td>\n",
              "      <td>0.034615</td>\n",
              "      <td>10</td>\n",
              "    </tr>\n",
              "    <tr>\n",
              "      <th>5</th>\n",
              "      <td>0.010419</td>\n",
              "      <td>0.001898</td>\n",
              "      <td>0.002927</td>\n",
              "      <td>0.000282</td>\n",
              "      <td>0.1</td>\n",
              "      <td>1</td>\n",
              "      <td>rbf</td>\n",
              "      <td>{'C': 0.1, 'gamma': 1, 'kernel': 'rbf'}</td>\n",
              "      <td>0.786667</td>\n",
              "      <td>0.826667</td>\n",
              "      <td>0.826667</td>\n",
              "      <td>0.846667</td>\n",
              "      <td>0.813333</td>\n",
              "      <td>0.820000</td>\n",
              "      <td>0.019777</td>\n",
              "      <td>1</td>\n",
              "    </tr>\n",
              "    <tr>\n",
              "      <th>6</th>\n",
              "      <td>0.011647</td>\n",
              "      <td>0.001312</td>\n",
              "      <td>0.001330</td>\n",
              "      <td>0.000042</td>\n",
              "      <td>10</td>\n",
              "      <td>0.1</td>\n",
              "      <td>linear</td>\n",
              "      <td>{'C': 10, 'gamma': 0.1, 'kernel': 'linear'}</td>\n",
              "      <td>0.773333</td>\n",
              "      <td>0.820000</td>\n",
              "      <td>0.820000</td>\n",
              "      <td>0.833333</td>\n",
              "      <td>0.813333</td>\n",
              "      <td>0.812000</td>\n",
              "      <td>0.020396</td>\n",
              "      <td>6</td>\n",
              "    </tr>\n",
              "    <tr>\n",
              "      <th>7</th>\n",
              "      <td>0.007793</td>\n",
              "      <td>0.000224</td>\n",
              "      <td>0.001974</td>\n",
              "      <td>0.000052</td>\n",
              "      <td>10</td>\n",
              "      <td>0.1</td>\n",
              "      <td>poly</td>\n",
              "      <td>{'C': 10, 'gamma': 0.1, 'kernel': 'poly'}</td>\n",
              "      <td>0.740000</td>\n",
              "      <td>0.773333</td>\n",
              "      <td>0.720000</td>\n",
              "      <td>0.733333</td>\n",
              "      <td>0.746667</td>\n",
              "      <td>0.742667</td>\n",
              "      <td>0.017689</td>\n",
              "      <td>11</td>\n",
              "    </tr>\n",
              "    <tr>\n",
              "      <th>8</th>\n",
              "      <td>0.009168</td>\n",
              "      <td>0.000768</td>\n",
              "      <td>0.002899</td>\n",
              "      <td>0.000646</td>\n",
              "      <td>10</td>\n",
              "      <td>0.1</td>\n",
              "      <td>rbf</td>\n",
              "      <td>{'C': 10, 'gamma': 0.1, 'kernel': 'rbf'}</td>\n",
              "      <td>0.773333</td>\n",
              "      <td>0.820000</td>\n",
              "      <td>0.813333</td>\n",
              "      <td>0.846667</td>\n",
              "      <td>0.813333</td>\n",
              "      <td>0.813333</td>\n",
              "      <td>0.023476</td>\n",
              "      <td>3</td>\n",
              "    </tr>\n",
              "    <tr>\n",
              "      <th>9</th>\n",
              "      <td>0.011170</td>\n",
              "      <td>0.000831</td>\n",
              "      <td>0.001677</td>\n",
              "      <td>0.000158</td>\n",
              "      <td>10</td>\n",
              "      <td>1</td>\n",
              "      <td>linear</td>\n",
              "      <td>{'C': 10, 'gamma': 1, 'kernel': 'linear'}</td>\n",
              "      <td>0.773333</td>\n",
              "      <td>0.820000</td>\n",
              "      <td>0.820000</td>\n",
              "      <td>0.833333</td>\n",
              "      <td>0.813333</td>\n",
              "      <td>0.812000</td>\n",
              "      <td>0.020396</td>\n",
              "      <td>6</td>\n",
              "    </tr>\n",
              "    <tr>\n",
              "      <th>10</th>\n",
              "      <td>0.023912</td>\n",
              "      <td>0.002078</td>\n",
              "      <td>0.001976</td>\n",
              "      <td>0.000119</td>\n",
              "      <td>10</td>\n",
              "      <td>1</td>\n",
              "      <td>poly</td>\n",
              "      <td>{'C': 10, 'gamma': 1, 'kernel': 'poly'}</td>\n",
              "      <td>0.740000</td>\n",
              "      <td>0.806667</td>\n",
              "      <td>0.813333</td>\n",
              "      <td>0.780000</td>\n",
              "      <td>0.806667</td>\n",
              "      <td>0.789333</td>\n",
              "      <td>0.027195</td>\n",
              "      <td>9</td>\n",
              "    </tr>\n",
              "    <tr>\n",
              "      <th>11</th>\n",
              "      <td>0.013323</td>\n",
              "      <td>0.001278</td>\n",
              "      <td>0.002375</td>\n",
              "      <td>0.000122</td>\n",
              "      <td>10</td>\n",
              "      <td>1</td>\n",
              "      <td>rbf</td>\n",
              "      <td>{'C': 10, 'gamma': 1, 'kernel': 'rbf'}</td>\n",
              "      <td>0.753333</td>\n",
              "      <td>0.833333</td>\n",
              "      <td>0.846667</td>\n",
              "      <td>0.840000</td>\n",
              "      <td>0.806667</td>\n",
              "      <td>0.816000</td>\n",
              "      <td>0.034150</td>\n",
              "      <td>2</td>\n",
              "    </tr>\n",
              "  </tbody>\n",
              "</table>\n",
              "</div>\n",
              "      <button class=\"colab-df-convert\" onclick=\"convertToInteractive('df-948ff12b-968d-4334-b808-84a42c737e2b')\"\n",
              "              title=\"Convert this dataframe to an interactive table.\"\n",
              "              style=\"display:none;\">\n",
              "        \n",
              "  <svg xmlns=\"http://www.w3.org/2000/svg\" height=\"24px\"viewBox=\"0 0 24 24\"\n",
              "       width=\"24px\">\n",
              "    <path d=\"M0 0h24v24H0V0z\" fill=\"none\"/>\n",
              "    <path d=\"M18.56 5.44l.94 2.06.94-2.06 2.06-.94-2.06-.94-.94-2.06-.94 2.06-2.06.94zm-11 1L8.5 8.5l.94-2.06 2.06-.94-2.06-.94L8.5 2.5l-.94 2.06-2.06.94zm10 10l.94 2.06.94-2.06 2.06-.94-2.06-.94-.94-2.06-.94 2.06-2.06.94z\"/><path d=\"M17.41 7.96l-1.37-1.37c-.4-.4-.92-.59-1.43-.59-.52 0-1.04.2-1.43.59L10.3 9.45l-7.72 7.72c-.78.78-.78 2.05 0 2.83L4 21.41c.39.39.9.59 1.41.59.51 0 1.02-.2 1.41-.59l7.78-7.78 2.81-2.81c.8-.78.8-2.07 0-2.86zM5.41 20L4 18.59l7.72-7.72 1.47 1.35L5.41 20z\"/>\n",
              "  </svg>\n",
              "      </button>\n",
              "      \n",
              "  <style>\n",
              "    .colab-df-container {\n",
              "      display:flex;\n",
              "      flex-wrap:wrap;\n",
              "      gap: 12px;\n",
              "    }\n",
              "\n",
              "    .colab-df-convert {\n",
              "      background-color: #E8F0FE;\n",
              "      border: none;\n",
              "      border-radius: 50%;\n",
              "      cursor: pointer;\n",
              "      display: none;\n",
              "      fill: #1967D2;\n",
              "      height: 32px;\n",
              "      padding: 0 0 0 0;\n",
              "      width: 32px;\n",
              "    }\n",
              "\n",
              "    .colab-df-convert:hover {\n",
              "      background-color: #E2EBFA;\n",
              "      box-shadow: 0px 1px 2px rgba(60, 64, 67, 0.3), 0px 1px 3px 1px rgba(60, 64, 67, 0.15);\n",
              "      fill: #174EA6;\n",
              "    }\n",
              "\n",
              "    [theme=dark] .colab-df-convert {\n",
              "      background-color: #3B4455;\n",
              "      fill: #D2E3FC;\n",
              "    }\n",
              "\n",
              "    [theme=dark] .colab-df-convert:hover {\n",
              "      background-color: #434B5C;\n",
              "      box-shadow: 0px 1px 3px 1px rgba(0, 0, 0, 0.15);\n",
              "      filter: drop-shadow(0px 1px 2px rgba(0, 0, 0, 0.3));\n",
              "      fill: #FFFFFF;\n",
              "    }\n",
              "  </style>\n",
              "\n",
              "      <script>\n",
              "        const buttonEl =\n",
              "          document.querySelector('#df-948ff12b-968d-4334-b808-84a42c737e2b button.colab-df-convert');\n",
              "        buttonEl.style.display =\n",
              "          google.colab.kernel.accessAllowed ? 'block' : 'none';\n",
              "\n",
              "        async function convertToInteractive(key) {\n",
              "          const element = document.querySelector('#df-948ff12b-968d-4334-b808-84a42c737e2b');\n",
              "          const dataTable =\n",
              "            await google.colab.kernel.invokeFunction('convertToInteractive',\n",
              "                                                     [key], {});\n",
              "          if (!dataTable) return;\n",
              "\n",
              "          const docLinkHtml = 'Like what you see? Visit the ' +\n",
              "            '<a target=\"_blank\" href=https://colab.research.google.com/notebooks/data_table.ipynb>data table notebook</a>'\n",
              "            + ' to learn more about interactive tables.';\n",
              "          element.innerHTML = '';\n",
              "          dataTable['output_type'] = 'display_data';\n",
              "          await google.colab.output.renderOutput(dataTable, element);\n",
              "          const docLink = document.createElement('div');\n",
              "          docLink.innerHTML = docLinkHtml;\n",
              "          element.appendChild(docLink);\n",
              "        }\n",
              "      </script>\n",
              "    </div>\n",
              "  </div>\n",
              "  "
            ]
          },
          "metadata": {},
          "execution_count": 24
        }
      ],
      "source": [
        "pd.DataFrame(grid_search_cv.cv_results_)"
      ]
    },
    {
      "cell_type": "code",
      "source": [
        "grid_search_cv.best_estimator_"
      ],
      "metadata": {
        "colab": {
          "base_uri": "https://localhost:8080/"
        },
        "id": "eLp1RRwD29jT",
        "outputId": "52584de0-c3e9-4d7d-ead4-8a8ac40f27f7"
      },
      "execution_count": 25,
      "outputs": [
        {
          "output_type": "execute_result",
          "data": {
            "text/plain": [
              "SVC(C=0.1, gamma=1)"
            ]
          },
          "metadata": {},
          "execution_count": 25
        }
      ]
    },
    {
      "cell_type": "code",
      "execution_count": 26,
      "metadata": {
        "colab": {
          "base_uri": "https://localhost:8080/"
        },
        "id": "vIiJe7rJp_da",
        "outputId": "9517a870-76ce-4e92-b23e-236c5b42b6a8"
      },
      "outputs": [
        {
          "output_type": "execute_result",
          "data": {
            "text/plain": [
              "0.816"
            ]
          },
          "metadata": {},
          "execution_count": 26
        }
      ],
      "source": [
        "############################################################################\n",
        "############### 적절한 함수를 찾아 y_test에 대한 성능을 얻으시면 됩니다. ###############\n",
        "y_pred = grid_search_cv.predict(X_test)\n",
        "accuracy_score(y_test,y_pred)\n",
        "############################################################################"
      ]
    },
    {
      "cell_type": "markdown",
      "metadata": {
        "id": "-n_CqVM8p_da"
      },
      "source": [
        "## [P.3] 하이퍼파라미터 서치 결과 분석\n",
        "\n",
        "P.2에서 구현했던 내용을 바탕으로, 아래 질문에 대한 답변 작성\n",
        "\n",
        "#### Q.1) 어떤 하이퍼파라미터와 값들을 후보군으로 설정했는지 서술\n",
        "---\n",
        "\n",
        "#### Q.2) 해당 하이퍼파라미터의 역할을 분석하고, 왜 해당 결과값이 가장 좋은 성능을 보여줄 수 있었는지에 대해 자유롭게 작성\n",
        "---"
      ]
    }
  ],
  "metadata": {
    "kernelspec": {
      "display_name": "Python 3",
      "language": "python",
      "name": "python3"
    },
    "language_info": {
      "codemirror_mode": {
        "name": "ipython",
        "version": 3
      },
      "file_extension": ".py",
      "mimetype": "text/x-python",
      "name": "python",
      "nbconvert_exporter": "python",
      "pygments_lexer": "ipython3",
      "version": "3.7.9"
    },
    "nav_menu": {},
    "toc": {
      "navigate_menu": true,
      "number_sections": true,
      "sideBar": true,
      "threshold": 6,
      "toc_cell": false,
      "toc_section_display": "block",
      "toc_window_display": false
    },
    "colab": {
      "provenance": [],
      "include_colab_link": true
    }
  },
  "nbformat": 4,
  "nbformat_minor": 0
}