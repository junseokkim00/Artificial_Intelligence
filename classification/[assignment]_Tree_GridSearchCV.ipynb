{
  "cells": [
    {
      "cell_type": "markdown",
      "metadata": {
        "id": "view-in-github",
        "colab_type": "text"
      },
      "source": [
        "<a href=\"https://colab.research.google.com/github/junseokkim00/Artificial_Intelligence/blob/main/classification/%5Bassignment%5D_Tree_GridSearchCV.ipynb\" target=\"_parent\"><img src=\"https://colab.research.google.com/assets/colab-badge.svg\" alt=\"Open In Colab\"/></a>"
      ]
    },
    {
      "cell_type": "code",
      "source": [
        "from google.colab import drive\n",
        "drive.mount('/content/drive')"
      ],
      "metadata": {
        "colab": {
          "base_uri": "https://localhost:8080/"
        },
        "id": "EUfS1v5e68rB",
        "outputId": "7488a253-0794-4cba-e516-dfcbe3170064"
      },
      "execution_count": 1,
      "outputs": [
        {
          "output_type": "stream",
          "name": "stdout",
          "text": [
            "Mounted at /content/drive\n"
          ]
        }
      ]
    },
    {
      "cell_type": "code",
      "execution_count": 2,
      "metadata": {
        "id": "0TKXB7fl6xeT"
      },
      "outputs": [],
      "source": [
        "# Basic setting\n",
        "import os\n",
        "import pickle\n",
        "import numpy as np\n",
        "\n",
        "import pandas as pd\n",
        "import matplotlib.pyplot as plt\n",
        "%matplotlib inline"
      ]
    },
    {
      "cell_type": "markdown",
      "metadata": {
        "id": "KKL8oeCA6xeU"
      },
      "source": [
        "# [과제] 최적의 Decision Tree 모델 찾기\n",
        "\n",
        "---\n",
        "\n",
        "## 본 과제의 목표는 다음과 같음\n",
        "\n",
        "1. Decision Tree 모델을 사이킷런 패키지를 이용해 정의할 수 있음\n",
        "2. `GridSearchCV` 클래스를 이용하여, 가장 높은 성능과 최적의 하이퍼파라미터를 찾을 수 있음"
      ]
    },
    {
      "cell_type": "markdown",
      "metadata": {
        "id": "wvVapPaJ6xeU"
      },
      "source": [
        "## [P.1] GridSearchCV 클래스를 이용하여 최적의 모델 찾기\n",
        "\n",
        "이전 과제에서 사용했던 `GridSearchCV` 클래스를 활용해 해당 데이터에 가장 좋은 성능을 보여주는 모델 찾기"
      ]
    },
    {
      "cell_type": "code",
      "execution_count": 3,
      "metadata": {
        "id": "iltgXxzu6xeV"
      },
      "outputs": [],
      "source": [
        "# don't change the option\n",
        "from sklearn.datasets import make_moons\n",
        "from sklearn.model_selection import train_test_split\n",
        "\n",
        "X, y = make_moons(n_samples=1000, noise=0.4, random_state=42)\n",
        "X_train, X_test, y_train, y_test = train_test_split(X, y)"
      ]
    },
    {
      "cell_type": "code",
      "execution_count": 18,
      "metadata": {
        "id": "uzFdfmk26xeV"
      },
      "outputs": [],
      "source": [
        "def plot_dataset(X, y):\n",
        "    #################################################\n",
        "    ############## 데이터셋 plot 연습  #################\n",
        "    plt.plot(X[:, 0][y==0], X[:, 1][y==0], \"s\")\n",
        "    plt.plot(X[:, 0][y==1], X[:, 1][y==1], \"^\")\n",
        "    #################################################"
      ]
    },
    {
      "cell_type": "code",
      "execution_count": 5,
      "metadata": {
        "colab": {
          "base_uri": "https://localhost:8080/",
          "height": 265
        },
        "id": "-7gTtmdI6xeV",
        "outputId": "e4690202-a696-4fc3-d297-f4ad9c9b9cb0"
      },
      "outputs": [
        {
          "output_type": "display_data",
          "data": {
            "text/plain": [
              "<Figure size 432x288 with 1 Axes>"
            ],
            "image/png": "[encoded data removed]"
          },
          "metadata": {
            "needs_background": "light"
          }
        }
      ],
      "source": [
        "plot_dataset(X, y)"
      ]
    },
    {
      "cell_type": "code",
      "execution_count": 6,
      "metadata": {
        "colab": {
          "base_uri": "https://localhost:8080/"
        },
        "id": "hJ-9SAuq6xeV",
        "outputId": "09c40d49-84dd-4e48-cae4-c061a0407181"
      },
      "outputs": [
        {
          "output_type": "execute_result",
          "data": {
            "text/plain": [
              "GridSearchCV(estimator=DecisionTreeClassifier(random_state=42),\n",
              "             param_grid={'max_depth': [3, 5, 10, 15, 20, 100],\n",
              "                         'max_leaf_nodes': [10, 20, 30, 100],\n",
              "                         'min_samples_split': [10, 50, 100, 200]})"
            ]
          },
          "metadata": {},
          "execution_count": 6
        }
      ],
      "source": [
        "from sklearn.model_selection import GridSearchCV\n",
        "from sklearn.tree import DecisionTreeClassifier\n",
        "\n",
        "#################################################\n",
        "########## GridSearchCV를 이용해 모델학습 ###########\n",
        "# get grid_search_cv\n",
        "tree_clf = DecisionTreeClassifier(random_state = 42)\n",
        "params_tree = {\n",
        "    'max_depth' : [3, 5, 10, 15, 20, 100],\n",
        "    'max_leaf_nodes' : [10, 20, 30, 100],\n",
        "    'min_samples_split': [10, 50, 100, 200]}\n",
        "grid_search_cv = GridSearchCV(tree_clf, params_tree)\n",
        "grid_search_cv.fit(X_train, y_train)\n",
        "\n",
        "#################################################"
      ]
    },
    {
      "cell_type": "code",
      "execution_count": 7,
      "metadata": {
        "colab": {
          "base_uri": "https://localhost:8080/"
        },
        "id": "gBD5yMyE6xeV",
        "outputId": "7ecba050-cc70-48af-e0b0-f8c8e315a995"
      },
      "outputs": [
        {
          "output_type": "execute_result",
          "data": {
            "text/plain": [
              "{'mean_fit_time': array([0.00138321, 0.00136213, 0.00120282, 0.00109677, 0.0011034 ,\n",
              "        0.00113029, 0.00107803, 0.00110006, 0.00111341, 0.00120192,\n",
              "        0.00111861, 0.0011539 , 0.00108767, 0.00107579, 0.0011426 ,\n",
              "        0.00109029, 0.00151229, 0.00185919, 0.00209694, 0.00141139,\n",
              "        0.00132365, 0.00129523, 0.001231  , 0.0011302 , 0.00176854,\n",
              "        0.00131321, 0.0012495 , 0.00123391, 0.00134802, 0.00131631,\n",
              "        0.00126338, 0.0011169 , 0.00125718, 0.00151067, 0.0017076 ,\n",
              "        0.00115156, 0.00139894, 0.00211987, 0.00124431, 0.001125  ,\n",
              "        0.0015626 , 0.00138392, 0.00122824, 0.00125551, 0.0015451 ,\n",
              "        0.00136256, 0.00131993, 0.00136108, 0.00159898, 0.00127082,\n",
              "        0.0012589 , 0.00112638, 0.00135379, 0.00135612, 0.00121698,\n",
              "        0.00117989, 0.00144882, 0.00134726, 0.00122232, 0.00110822,\n",
              "        0.00157552, 0.00137444, 0.00123153, 0.0012352 , 0.00164595,\n",
              "        0.00127287, 0.00124788, 0.00114474, 0.00135064, 0.00134768,\n",
              "        0.00124459, 0.00111389, 0.00139737, 0.00141258, 0.00126204,\n",
              "        0.00114093, 0.00154934, 0.00136814, 0.00122747, 0.00111217,\n",
              "        0.00125608, 0.00124197, 0.00121198, 0.00110974, 0.00136247,\n",
              "        0.00137992, 0.00122929, 0.00114069, 0.00146532, 0.00137539,\n",
              "        0.00122976, 0.00157537, 0.00157437, 0.00139995, 0.00123291,\n",
              "        0.00138602]),\n",
              " 'std_fit_time': array([2.06844660e-04, 1.00247502e-04, 1.36815708e-04, 1.86036170e-05,\n",
              "        1.01399396e-05, 9.24475719e-05, 5.35588115e-06, 2.42489394e-05,\n",
              "        3.49303968e-05, 1.21618567e-04, 3.23822638e-05, 1.27494914e-04,\n",
              "        1.11746867e-05, 4.84030820e-06, 5.97716091e-05, 9.80013472e-06,\n",
              "        2.85688618e-04, 3.74543371e-05, 8.04708874e-04, 1.83574094e-04,\n",
              "        6.26346980e-06, 3.91838886e-05, 2.27428831e-05, 2.49767103e-05,\n",
              "        1.81459026e-04, 2.99638187e-05, 4.07609038e-05, 1.65142043e-04,\n",
              "        4.88137805e-05, 5.72530336e-05, 5.79695544e-05, 5.76282908e-06,\n",
              "        2.54387149e-05, 2.99637026e-04, 2.33959966e-04, 2.80033760e-05,\n",
              "        5.44500432e-05, 5.86748183e-04, 4.43727658e-05, 2.51721247e-05,\n",
              "        1.34397718e-04, 2.73567425e-05, 3.42655195e-05, 2.37673262e-04,\n",
              "        3.02765687e-05, 3.69716422e-05, 1.54436536e-04, 3.49795968e-04,\n",
              "        1.65960061e-04, 2.23973413e-05, 3.69576176e-05, 2.28322857e-05,\n",
              "        2.28933487e-05, 2.50759227e-05, 3.74836470e-05, 1.16710938e-04,\n",
              "        6.94631456e-05, 3.37169393e-05, 2.64020562e-05, 2.28112637e-05,\n",
              "        8.14259172e-05, 4.34480559e-05, 3.94890844e-05, 2.27777150e-04,\n",
              "        6.89382859e-05, 2.48378612e-05, 6.37372731e-05, 3.79364643e-05,\n",
              "        2.50405348e-05, 9.91270940e-06, 5.61724292e-05, 1.41026151e-05,\n",
              "        1.62880203e-05, 5.29614340e-05, 4.68507007e-05, 2.50503396e-05,\n",
              "        3.44673124e-05, 3.96505509e-05, 4.36087329e-05, 1.65767965e-05,\n",
              "        1.45919962e-05, 9.66157279e-06, 2.30167671e-05, 1.79341492e-05,\n",
              "        1.95460198e-05, 3.01591115e-05, 4.40136454e-05, 3.44673124e-05,\n",
              "        4.98533192e-05, 3.50640381e-05, 2.59515091e-05, 5.10481974e-04,\n",
              "        6.89795013e-05, 7.01176678e-05, 2.86286613e-05, 3.43246703e-04]),\n",
              " 'mean_score_time': array([0.00050201, 0.00041599, 0.00034032, 0.00029936, 0.00029297,\n",
              "        0.0002975 , 0.00029483, 0.00029492, 0.00029459, 0.00032964,\n",
              "        0.00030723, 0.00029607, 0.00029702, 0.00028925, 0.00032425,\n",
              "        0.00029593, 0.00037465, 0.0004684 , 0.0004674 , 0.00037313,\n",
              "        0.00030432, 0.00030003, 0.00029941, 0.00030141, 0.00045886,\n",
              "        0.0003058 , 0.00033689, 0.00030055, 0.00030046, 0.0003068 ,\n",
              "        0.0003099 , 0.00029297, 0.00029845, 0.00036139, 0.00040436,\n",
              "        0.0003077 , 0.00031404, 0.00050755, 0.00030394, 0.00029063,\n",
              "        0.00033026, 0.00030661, 0.00029416, 0.00031528, 0.00032592,\n",
              "        0.00034542, 0.00030661, 0.00038123, 0.00037022, 0.0002944 ,\n",
              "        0.00031009, 0.00030107, 0.00030956, 0.00029497, 0.0002986 ,\n",
              "        0.00030222, 0.00035105, 0.00030737, 0.00029268, 0.00029345,\n",
              "        0.00030503, 0.00029998, 0.00029764, 0.00033345, 0.00040307,\n",
              "        0.00029616, 0.00029969, 0.00029931, 0.00030985, 0.00030994,\n",
              "        0.00030107, 0.00028944, 0.00029836, 0.00032301, 0.00030966,\n",
              "        0.0003006 , 0.00032177, 0.00029268, 0.00028939, 0.00028768,\n",
              "        0.0002871 , 0.00029955, 0.00028696, 0.00029845, 0.00032406,\n",
              "        0.00029883, 0.00029645, 0.0002924 , 0.00031023, 0.00030394,\n",
              "        0.00028815, 0.00058646, 0.00031605, 0.00029998, 0.00030537,\n",
              "        0.00034046]),\n",
              " 'std_score_time': array([2.78802841e-04, 2.52459946e-05, 6.41292974e-05, 1.59719807e-05,\n",
              "        8.32678381e-06, 1.37593756e-05, 1.03382431e-05, 1.25055033e-05,\n",
              "        1.27330701e-05, 4.76165776e-05, 1.97577521e-05, 9.58834042e-06,\n",
              "        1.00785374e-05, 6.37322786e-06, 3.16028301e-05, 1.09105093e-05,\n",
              "        8.72542425e-05, 7.15827713e-06, 7.52141053e-05, 4.95495531e-05,\n",
              "        2.70833432e-06, 8.21157337e-06, 6.26709891e-06, 1.02895227e-05,\n",
              "        6.75260345e-05, 9.34600830e-06, 5.48464310e-05, 1.01741899e-05,\n",
              "        6.58208023e-06, 9.48462550e-06, 2.55872792e-05, 8.68367467e-06,\n",
              "        7.71445305e-06, 7.18113277e-05, 4.89154515e-05, 1.11528939e-05,\n",
              "        7.96246668e-06, 2.25662670e-04, 8.06038175e-06, 7.66210696e-06,\n",
              "        2.19818310e-05, 8.76005796e-06, 7.16589638e-06, 2.95918087e-05,\n",
              "        1.84832072e-05, 6.38866417e-05, 2.10024982e-06, 9.61565510e-05,\n",
              "        3.24050758e-05, 7.96532174e-06, 2.08659712e-05, 6.11654024e-06,\n",
              "        1.45052578e-05, 5.25689990e-06, 1.09096757e-05, 2.31703610e-05,\n",
              "        4.54009577e-05, 1.10759737e-05, 6.37358462e-06, 1.30494920e-05,\n",
              "        1.33400255e-05, 7.29171175e-06, 9.45004152e-06, 6.59694515e-05,\n",
              "        5.54913494e-05, 9.21098329e-06, 1.10303061e-05, 1.69237562e-05,\n",
              "        3.81946266e-06, 5.36733124e-06, 8.65613776e-06, 1.23766573e-05,\n",
              "        1.04454551e-05, 1.80987185e-05, 1.76992036e-05, 1.06061705e-05,\n",
              "        2.39932973e-05, 4.34837842e-06, 8.05614932e-06, 5.82951709e-06,\n",
              "        2.17157317e-06, 9.63352684e-06, 7.84915098e-06, 2.33715399e-05,\n",
              "        1.57900073e-05, 8.71921224e-06, 1.12866459e-05, 1.10659101e-05,\n",
              "        2.32129109e-05, 1.51941300e-05, 1.78161065e-06, 5.21098402e-04,\n",
              "        1.10484312e-05, 1.41753029e-05, 2.72237688e-05, 6.07253572e-05]),\n",
              " 'param_max_depth': masked_array(data=[3, 3, 3, 3, 3, 3, 3, 3, 3, 3, 3, 3, 3, 3, 3, 3, 5, 5,\n",
              "                    5, 5, 5, 5, 5, 5, 5, 5, 5, 5, 5, 5, 5, 5, 10, 10, 10,\n",
              "                    10, 10, 10, 10, 10, 10, 10, 10, 10, 10, 10, 10, 10, 15,\n",
              "                    15, 15, 15, 15, 15, 15, 15, 15, 15, 15, 15, 15, 15, 15,\n",
              "                    15, 20, 20, 20, 20, 20, 20, 20, 20, 20, 20, 20, 20, 20,\n",
              "                    20, 20, 20, 100, 100, 100, 100, 100, 100, 100, 100,\n",
              "                    100, 100, 100, 100, 100, 100, 100, 100],\n",
              "              mask=[False, False, False, False, False, False, False, False,\n",
              "                    False, False, False, False, False, False, False, False,\n",
              "                    False, False, False, False, False, False, False, False,\n",
              "                    False, False, False, False, False, False, False, False,\n",
              "                    False, False, False, False, False, False, False, False,\n",
              "                    False, False, False, False, False, False, False, False,\n",
              "                    False, False, False, False, False, False, False, False,\n",
              "                    False, False, False, False, False, False, False, False,\n",
              "                    False, False, False, False, False, False, False, False,\n",
              "                    False, False, False, False, False, False, False, False,\n",
              "                    False, False, False, False, False, False, False, False,\n",
              "                    False, False, False, False, False, False, False, False],\n",
              "        fill_value='?',\n",
              "             dtype=object),\n",
              " 'param_max_leaf_nodes': masked_array(data=[10, 10, 10, 10, 20, 20, 20, 20, 30, 30, 30, 30, 100,\n",
              "                    100, 100, 100, 10, 10, 10, 10, 20, 20, 20, 20, 30, 30,\n",
              "                    30, 30, 100, 100, 100, 100, 10, 10, 10, 10, 20, 20, 20,\n",
              "                    20, 30, 30, 30, 30, 100, 100, 100, 100, 10, 10, 10, 10,\n",
              "                    20, 20, 20, 20, 30, 30, 30, 30, 100, 100, 100, 100, 10,\n",
              "                    10, 10, 10, 20, 20, 20, 20, 30, 30, 30, 30, 100, 100,\n",
              "                    100, 100, 10, 10, 10, 10, 20, 20, 20, 20, 30, 30, 30,\n",
              "                    30, 100, 100, 100, 100],\n",
              "              mask=[False, False, False, False, False, False, False, False,\n",
              "                    False, False, False, False, False, False, False, False,\n",
              "                    False, False, False, False, False, False, False, False,\n",
              "                    False, False, False, False, False, False, False, False,\n",
              "                    False, False, False, False, False, False, False, False,\n",
              "                    False, False, False, False, False, False, False, False,\n",
              "                    False, False, False, False, False, False, False, False,\n",
              "                    False, False, False, False, False, False, False, False,\n",
              "                    False, False, False, False, False, False, False, False,\n",
              "                    False, False, False, False, False, False, False, False,\n",
              "                    False, False, False, False, False, False, False, False,\n",
              "                    False, False, False, False, False, False, False, False],\n",
              "        fill_value='?',\n",
              "             dtype=object),\n",
              " 'param_min_samples_split': masked_array(data=[10, 50, 100, 200, 10, 50, 100, 200, 10, 50, 100, 200,\n",
              "                    10, 50, 100, 200, 10, 50, 100, 200, 10, 50, 100, 200,\n",
              "                    10, 50, 100, 200, 10, 50, 100, 200, 10, 50, 100, 200,\n",
              "                    10, 50, 100, 200, 10, 50, 100, 200, 10, 50, 100, 200,\n",
              "                    10, 50, 100, 200, 10, 50, 100, 200, 10, 50, 100, 200,\n",
              "                    10, 50, 100, 200, 10, 50, 100, 200, 10, 50, 100, 200,\n",
              "                    10, 50, 100, 200, 10, 50, 100, 200, 10, 50, 100, 200,\n",
              "                    10, 50, 100, 200, 10, 50, 100, 200, 10, 50, 100, 200],\n",
              "              mask=[False, False, False, False, False, False, False, False,\n",
              "                    False, False, False, False, False, False, False, False,\n",
              "                    False, False, False, False, False, False, False, False,\n",
              "                    False, False, False, False, False, False, False, False,\n",
              "                    False, False, False, False, False, False, False, False,\n",
              "                    False, False, False, False, False, False, False, False,\n",
              "                    False, False, False, False, False, False, False, False,\n",
              "                    False, False, False, False, False, False, False, False,\n",
              "                    False, False, False, False, False, False, False, False,\n",
              "                    False, False, False, False, False, False, False, False,\n",
              "                    False, False, False, False, False, False, False, False,\n",
              "                    False, False, False, False, False, False, False, False],\n",
              "        fill_value='?',\n",
              "             dtype=object),\n",
              " 'params': [{'max_depth': 3, 'max_leaf_nodes': 10, 'min_samples_split': 10},\n",
              "  {'max_depth': 3, 'max_leaf_nodes': 10, 'min_samples_split': 50},\n",
              "  {'max_depth': 3, 'max_leaf_nodes': 10, 'min_samples_split': 100},\n",
              "  {'max_depth': 3, 'max_leaf_nodes': 10, 'min_samples_split': 200},\n",
              "  {'max_depth': 3, 'max_leaf_nodes': 20, 'min_samples_split': 10},\n",
              "  {'max_depth': 3, 'max_leaf_nodes': 20, 'min_samples_split': 50},\n",
              "  {'max_depth': 3, 'max_leaf_nodes': 20, 'min_samples_split': 100},\n",
              "  {'max_depth': 3, 'max_leaf_nodes': 20, 'min_samples_split': 200},\n",
              "  {'max_depth': 3, 'max_leaf_nodes': 30, 'min_samples_split': 10},\n",
              "  {'max_depth': 3, 'max_leaf_nodes': 30, 'min_samples_split': 50},\n",
              "  {'max_depth': 3, 'max_leaf_nodes': 30, 'min_samples_split': 100},\n",
              "  {'max_depth': 3, 'max_leaf_nodes': 30, 'min_samples_split': 200},\n",
              "  {'max_depth': 3, 'max_leaf_nodes': 100, 'min_samples_split': 10},\n",
              "  {'max_depth': 3, 'max_leaf_nodes': 100, 'min_samples_split': 50},\n",
              "  {'max_depth': 3, 'max_leaf_nodes': 100, 'min_samples_split': 100},\n",
              "  {'max_depth': 3, 'max_leaf_nodes': 100, 'min_samples_split': 200},\n",
              "  {'max_depth': 5, 'max_leaf_nodes': 10, 'min_samples_split': 10},\n",
              "  {'max_depth': 5, 'max_leaf_nodes': 10, 'min_samples_split': 50},\n",
              "  {'max_depth': 5, 'max_leaf_nodes': 10, 'min_samples_split': 100},\n",
              "  {'max_depth': 5, 'max_leaf_nodes': 10, 'min_samples_split': 200},\n",
              "  {'max_depth': 5, 'max_leaf_nodes': 20, 'min_samples_split': 10},\n",
              "  {'max_depth': 5, 'max_leaf_nodes': 20, 'min_samples_split': 50},\n",
              "  {'max_depth': 5, 'max_leaf_nodes': 20, 'min_samples_split': 100},\n",
              "  {'max_depth': 5, 'max_leaf_nodes': 20, 'min_samples_split': 200},\n",
              "  {'max_depth': 5, 'max_leaf_nodes': 30, 'min_samples_split': 10},\n",
              "  {'max_depth': 5, 'max_leaf_nodes': 30, 'min_samples_split': 50},\n",
              "  {'max_depth': 5, 'max_leaf_nodes': 30, 'min_samples_split': 100},\n",
              "  {'max_depth': 5, 'max_leaf_nodes': 30, 'min_samples_split': 200},\n",
              "  {'max_depth': 5, 'max_leaf_nodes': 100, 'min_samples_split': 10},\n",
              "  {'max_depth': 5, 'max_leaf_nodes': 100, 'min_samples_split': 50},\n",
              "  {'max_depth': 5, 'max_leaf_nodes': 100, 'min_samples_split': 100},\n",
              "  {'max_depth': 5, 'max_leaf_nodes': 100, 'min_samples_split': 200},\n",
              "  {'max_depth': 10, 'max_leaf_nodes': 10, 'min_samples_split': 10},\n",
              "  {'max_depth': 10, 'max_leaf_nodes': 10, 'min_samples_split': 50},\n",
              "  {'max_depth': 10, 'max_leaf_nodes': 10, 'min_samples_split': 100},\n",
              "  {'max_depth': 10, 'max_leaf_nodes': 10, 'min_samples_split': 200},\n",
              "  {'max_depth': 10, 'max_leaf_nodes': 20, 'min_samples_split': 10},\n",
              "  {'max_depth': 10, 'max_leaf_nodes': 20, 'min_samples_split': 50},\n",
              "  {'max_depth': 10, 'max_leaf_nodes': 20, 'min_samples_split': 100},\n",
              "  {'max_depth': 10, 'max_leaf_nodes': 20, 'min_samples_split': 200},\n",
              "  {'max_depth': 10, 'max_leaf_nodes': 30, 'min_samples_split': 10},\n",
              "  {'max_depth': 10, 'max_leaf_nodes': 30, 'min_samples_split': 50},\n",
              "  {'max_depth': 10, 'max_leaf_nodes': 30, 'min_samples_split': 100},\n",
              "  {'max_depth': 10, 'max_leaf_nodes': 30, 'min_samples_split': 200},\n",
              "  {'max_depth': 10, 'max_leaf_nodes': 100, 'min_samples_split': 10},\n",
              "  {'max_depth': 10, 'max_leaf_nodes': 100, 'min_samples_split': 50},\n",
              "  {'max_depth': 10, 'max_leaf_nodes': 100, 'min_samples_split': 100},\n",
              "  {'max_depth': 10, 'max_leaf_nodes': 100, 'min_samples_split': 200},\n",
              "  {'max_depth': 15, 'max_leaf_nodes': 10, 'min_samples_split': 10},\n",
              "  {'max_depth': 15, 'max_leaf_nodes': 10, 'min_samples_split': 50},\n",
              "  {'max_depth': 15, 'max_leaf_nodes': 10, 'min_samples_split': 100},\n",
              "  {'max_depth': 15, 'max_leaf_nodes': 10, 'min_samples_split': 200},\n",
              "  {'max_depth': 15, 'max_leaf_nodes': 20, 'min_samples_split': 10},\n",
              "  {'max_depth': 15, 'max_leaf_nodes': 20, 'min_samples_split': 50},\n",
              "  {'max_depth': 15, 'max_leaf_nodes': 20, 'min_samples_split': 100},\n",
              "  {'max_depth': 15, 'max_leaf_nodes': 20, 'min_samples_split': 200},\n",
              "  {'max_depth': 15, 'max_leaf_nodes': 30, 'min_samples_split': 10},\n",
              "  {'max_depth': 15, 'max_leaf_nodes': 30, 'min_samples_split': 50},\n",
              "  {'max_depth': 15, 'max_leaf_nodes': 30, 'min_samples_split': 100},\n",
              "  {'max_depth': 15, 'max_leaf_nodes': 30, 'min_samples_split': 200},\n",
              "  {'max_depth': 15, 'max_leaf_nodes': 100, 'min_samples_split': 10},\n",
              "  {'max_depth': 15, 'max_leaf_nodes': 100, 'min_samples_split': 50},\n",
              "  {'max_depth': 15, 'max_leaf_nodes': 100, 'min_samples_split': 100},\n",
              "  {'max_depth': 15, 'max_leaf_nodes': 100, 'min_samples_split': 200},\n",
              "  {'max_depth': 20, 'max_leaf_nodes': 10, 'min_samples_split': 10},\n",
              "  {'max_depth': 20, 'max_leaf_nodes': 10, 'min_samples_split': 50},\n",
              "  {'max_depth': 20, 'max_leaf_nodes': 10, 'min_samples_split': 100},\n",
              "  {'max_depth': 20, 'max_leaf_nodes': 10, 'min_samples_split': 200},\n",
              "  {'max_depth': 20, 'max_leaf_nodes': 20, 'min_samples_split': 10},\n",
              "  {'max_depth': 20, 'max_leaf_nodes': 20, 'min_samples_split': 50},\n",
              "  {'max_depth': 20, 'max_leaf_nodes': 20, 'min_samples_split': 100},\n",
              "  {'max_depth': 20, 'max_leaf_nodes': 20, 'min_samples_split': 200},\n",
              "  {'max_depth': 20, 'max_leaf_nodes': 30, 'min_samples_split': 10},\n",
              "  {'max_depth': 20, 'max_leaf_nodes': 30, 'min_samples_split': 50},\n",
              "  {'max_depth': 20, 'max_leaf_nodes': 30, 'min_samples_split': 100},\n",
              "  {'max_depth': 20, 'max_leaf_nodes': 30, 'min_samples_split': 200},\n",
              "  {'max_depth': 20, 'max_leaf_nodes': 100, 'min_samples_split': 10},\n",
              "  {'max_depth': 20, 'max_leaf_nodes': 100, 'min_samples_split': 50},\n",
              "  {'max_depth': 20, 'max_leaf_nodes': 100, 'min_samples_split': 100},\n",
              "  {'max_depth': 20, 'max_leaf_nodes': 100, 'min_samples_split': 200},\n",
              "  {'max_depth': 100, 'max_leaf_nodes': 10, 'min_samples_split': 10},\n",
              "  {'max_depth': 100, 'max_leaf_nodes': 10, 'min_samples_split': 50},\n",
              "  {'max_depth': 100, 'max_leaf_nodes': 10, 'min_samples_split': 100},\n",
              "  {'max_depth': 100, 'max_leaf_nodes': 10, 'min_samples_split': 200},\n",
              "  {'max_depth': 100, 'max_leaf_nodes': 20, 'min_samples_split': 10},\n",
              "  {'max_depth': 100, 'max_leaf_nodes': 20, 'min_samples_split': 50},\n",
              "  {'max_depth': 100, 'max_leaf_nodes': 20, 'min_samples_split': 100},\n",
              "  {'max_depth': 100, 'max_leaf_nodes': 20, 'min_samples_split': 200},\n",
              "  {'max_depth': 100, 'max_leaf_nodes': 30, 'min_samples_split': 10},\n",
              "  {'max_depth': 100, 'max_leaf_nodes': 30, 'min_samples_split': 50},\n",
              "  {'max_depth': 100, 'max_leaf_nodes': 30, 'min_samples_split': 100},\n",
              "  {'max_depth': 100, 'max_leaf_nodes': 30, 'min_samples_split': 200},\n",
              "  {'max_depth': 100, 'max_leaf_nodes': 100, 'min_samples_split': 10},\n",
              "  {'max_depth': 100, 'max_leaf_nodes': 100, 'min_samples_split': 50},\n",
              "  {'max_depth': 100, 'max_leaf_nodes': 100, 'min_samples_split': 100},\n",
              "  {'max_depth': 100, 'max_leaf_nodes': 100, 'min_samples_split': 200}],\n",
              " 'split0_test_score': array([0.84666667, 0.85333333, 0.85333333, 0.85333333, 0.84666667,\n",
              "        0.85333333, 0.85333333, 0.85333333, 0.84666667, 0.85333333,\n",
              "        0.85333333, 0.85333333, 0.84666667, 0.85333333, 0.85333333,\n",
              "        0.85333333, 0.84      , 0.84666667, 0.84666667, 0.85333333,\n",
              "        0.83333333, 0.84666667, 0.84666667, 0.85333333, 0.83333333,\n",
              "        0.84666667, 0.84666667, 0.85333333, 0.83333333, 0.84666667,\n",
              "        0.84666667, 0.85333333, 0.84666667, 0.84666667, 0.84666667,\n",
              "        0.85333333, 0.79333333, 0.81333333, 0.84666667, 0.85333333,\n",
              "        0.78      , 0.81333333, 0.84666667, 0.85333333, 0.78      ,\n",
              "        0.81333333, 0.84666667, 0.85333333, 0.84666667, 0.84666667,\n",
              "        0.84666667, 0.85333333, 0.79333333, 0.81333333, 0.84666667,\n",
              "        0.85333333, 0.8       , 0.81333333, 0.84666667, 0.85333333,\n",
              "        0.8       , 0.81333333, 0.84666667, 0.85333333, 0.84666667,\n",
              "        0.84666667, 0.84666667, 0.85333333, 0.79333333, 0.81333333,\n",
              "        0.84666667, 0.85333333, 0.8       , 0.81333333, 0.84666667,\n",
              "        0.85333333, 0.8       , 0.81333333, 0.84666667, 0.85333333,\n",
              "        0.84666667, 0.84666667, 0.84666667, 0.85333333, 0.79333333,\n",
              "        0.81333333, 0.84666667, 0.85333333, 0.8       , 0.81333333,\n",
              "        0.84666667, 0.85333333, 0.8       , 0.81333333, 0.84666667,\n",
              "        0.85333333]),\n",
              " 'split1_test_score': array([0.84666667, 0.84666667, 0.84666667, 0.84666667, 0.84666667,\n",
              "        0.84666667, 0.84666667, 0.84666667, 0.84666667, 0.84666667,\n",
              "        0.84666667, 0.84666667, 0.84666667, 0.84666667, 0.84666667,\n",
              "        0.84666667, 0.84      , 0.84      , 0.84666667, 0.84666667,\n",
              "        0.82666667, 0.84666667, 0.84666667, 0.84666667, 0.82666667,\n",
              "        0.84666667, 0.84666667, 0.84666667, 0.82666667, 0.84666667,\n",
              "        0.84666667, 0.84666667, 0.84      , 0.84      , 0.84666667,\n",
              "        0.84666667, 0.86666667, 0.85333333, 0.84666667, 0.84666667,\n",
              "        0.87333333, 0.85333333, 0.84666667, 0.84666667, 0.87333333,\n",
              "        0.85333333, 0.84666667, 0.84666667, 0.84      , 0.84      ,\n",
              "        0.84666667, 0.84666667, 0.86666667, 0.85333333, 0.84666667,\n",
              "        0.84666667, 0.86666667, 0.85333333, 0.84666667, 0.84666667,\n",
              "        0.86666667, 0.85333333, 0.84666667, 0.84666667, 0.84      ,\n",
              "        0.84      , 0.84666667, 0.84666667, 0.86666667, 0.85333333,\n",
              "        0.84666667, 0.84666667, 0.86666667, 0.85333333, 0.84666667,\n",
              "        0.84666667, 0.86666667, 0.85333333, 0.84666667, 0.84666667,\n",
              "        0.84      , 0.84      , 0.84666667, 0.84666667, 0.86666667,\n",
              "        0.85333333, 0.84666667, 0.84666667, 0.86666667, 0.85333333,\n",
              "        0.84666667, 0.84666667, 0.86666667, 0.85333333, 0.84666667,\n",
              "        0.84666667]),\n",
              " 'split2_test_score': array([0.84      , 0.84      , 0.84      , 0.84      , 0.84      ,\n",
              "        0.84      , 0.84      , 0.84      , 0.84      , 0.84      ,\n",
              "        0.84      , 0.84      , 0.84      , 0.84      , 0.84      ,\n",
              "        0.84      , 0.84      , 0.84      , 0.84      , 0.84      ,\n",
              "        0.84      , 0.84      , 0.84      , 0.84      , 0.84      ,\n",
              "        0.84      , 0.84      , 0.84      , 0.84      , 0.84      ,\n",
              "        0.84      , 0.84      , 0.83333333, 0.84      , 0.84      ,\n",
              "        0.84      , 0.83333333, 0.85333333, 0.84      , 0.84      ,\n",
              "        0.84666667, 0.85333333, 0.84      , 0.84      , 0.83333333,\n",
              "        0.85333333, 0.84      , 0.84      , 0.83333333, 0.84      ,\n",
              "        0.84      , 0.84      , 0.83333333, 0.85333333, 0.84      ,\n",
              "        0.84      , 0.84666667, 0.85333333, 0.84      , 0.84      ,\n",
              "        0.83333333, 0.85333333, 0.84      , 0.84      , 0.83333333,\n",
              "        0.84      , 0.84      , 0.84      , 0.83333333, 0.85333333,\n",
              "        0.84      , 0.84      , 0.84666667, 0.85333333, 0.84      ,\n",
              "        0.84      , 0.83333333, 0.85333333, 0.84      , 0.84      ,\n",
              "        0.83333333, 0.84      , 0.84      , 0.84      , 0.83333333,\n",
              "        0.85333333, 0.84      , 0.84      , 0.84666667, 0.85333333,\n",
              "        0.84      , 0.84      , 0.83333333, 0.85333333, 0.84      ,\n",
              "        0.84      ]),\n",
              " 'split3_test_score': array([0.86666667, 0.86666667, 0.86666667, 0.86666667, 0.86666667,\n",
              "        0.86666667, 0.86666667, 0.86666667, 0.86666667, 0.86666667,\n",
              "        0.86666667, 0.86666667, 0.86666667, 0.86666667, 0.86666667,\n",
              "        0.86666667, 0.86      , 0.86666667, 0.86666667, 0.86666667,\n",
              "        0.86      , 0.86666667, 0.86666667, 0.86666667, 0.86      ,\n",
              "        0.86666667, 0.86666667, 0.86666667, 0.86      , 0.86666667,\n",
              "        0.86666667, 0.86666667, 0.86      , 0.86666667, 0.86666667,\n",
              "        0.86666667, 0.85333333, 0.85333333, 0.86666667, 0.86666667,\n",
              "        0.85333333, 0.85333333, 0.86666667, 0.86666667, 0.82666667,\n",
              "        0.85333333, 0.86666667, 0.86666667, 0.86      , 0.86666667,\n",
              "        0.86666667, 0.86666667, 0.85333333, 0.85333333, 0.86666667,\n",
              "        0.86666667, 0.85333333, 0.85333333, 0.86666667, 0.86666667,\n",
              "        0.83333333, 0.85333333, 0.86666667, 0.86666667, 0.86      ,\n",
              "        0.86666667, 0.86666667, 0.86666667, 0.85333333, 0.85333333,\n",
              "        0.86666667, 0.86666667, 0.85333333, 0.85333333, 0.86666667,\n",
              "        0.86666667, 0.83333333, 0.85333333, 0.86666667, 0.86666667,\n",
              "        0.86      , 0.86666667, 0.86666667, 0.86666667, 0.85333333,\n",
              "        0.85333333, 0.86666667, 0.86666667, 0.85333333, 0.85333333,\n",
              "        0.86666667, 0.86666667, 0.83333333, 0.85333333, 0.86666667,\n",
              "        0.86666667]),\n",
              " 'split4_test_score': array([0.83333333, 0.83333333, 0.83333333, 0.83333333, 0.83333333,\n",
              "        0.83333333, 0.83333333, 0.83333333, 0.83333333, 0.83333333,\n",
              "        0.83333333, 0.83333333, 0.83333333, 0.83333333, 0.83333333,\n",
              "        0.83333333, 0.83333333, 0.83333333, 0.83333333, 0.83333333,\n",
              "        0.82666667, 0.83333333, 0.83333333, 0.83333333, 0.82666667,\n",
              "        0.83333333, 0.83333333, 0.83333333, 0.82666667, 0.83333333,\n",
              "        0.83333333, 0.83333333, 0.83333333, 0.83333333, 0.83333333,\n",
              "        0.83333333, 0.82666667, 0.83333333, 0.83333333, 0.83333333,\n",
              "        0.82666667, 0.83333333, 0.83333333, 0.83333333, 0.81333333,\n",
              "        0.83333333, 0.83333333, 0.83333333, 0.83333333, 0.83333333,\n",
              "        0.83333333, 0.83333333, 0.82666667, 0.83333333, 0.83333333,\n",
              "        0.83333333, 0.81333333, 0.83333333, 0.83333333, 0.83333333,\n",
              "        0.8       , 0.83333333, 0.83333333, 0.83333333, 0.83333333,\n",
              "        0.83333333, 0.83333333, 0.83333333, 0.82666667, 0.83333333,\n",
              "        0.83333333, 0.83333333, 0.81333333, 0.83333333, 0.83333333,\n",
              "        0.83333333, 0.8       , 0.83333333, 0.83333333, 0.83333333,\n",
              "        0.83333333, 0.83333333, 0.83333333, 0.83333333, 0.82666667,\n",
              "        0.83333333, 0.83333333, 0.83333333, 0.81333333, 0.83333333,\n",
              "        0.83333333, 0.83333333, 0.8       , 0.83333333, 0.83333333,\n",
              "        0.83333333]),\n",
              " 'mean_test_score': array([0.84666667, 0.848     , 0.848     , 0.848     , 0.84666667,\n",
              "        0.848     , 0.848     , 0.848     , 0.84666667, 0.848     ,\n",
              "        0.848     , 0.848     , 0.84666667, 0.848     , 0.848     ,\n",
              "        0.848     , 0.84266667, 0.84533333, 0.84666667, 0.848     ,\n",
              "        0.83733333, 0.84666667, 0.84666667, 0.848     , 0.83733333,\n",
              "        0.84666667, 0.84666667, 0.848     , 0.83733333, 0.84666667,\n",
              "        0.84666667, 0.848     , 0.84266667, 0.84533333, 0.84666667,\n",
              "        0.848     , 0.83466667, 0.84133333, 0.84666667, 0.848     ,\n",
              "        0.836     , 0.84133333, 0.84666667, 0.848     , 0.82533333,\n",
              "        0.84133333, 0.84666667, 0.848     , 0.84266667, 0.84533333,\n",
              "        0.84666667, 0.848     , 0.83466667, 0.84133333, 0.84666667,\n",
              "        0.848     , 0.836     , 0.84133333, 0.84666667, 0.848     ,\n",
              "        0.82666667, 0.84133333, 0.84666667, 0.848     , 0.84266667,\n",
              "        0.84533333, 0.84666667, 0.848     , 0.83466667, 0.84133333,\n",
              "        0.84666667, 0.848     , 0.836     , 0.84133333, 0.84666667,\n",
              "        0.848     , 0.82666667, 0.84133333, 0.84666667, 0.848     ,\n",
              "        0.84266667, 0.84533333, 0.84666667, 0.848     , 0.83466667,\n",
              "        0.84133333, 0.84666667, 0.848     , 0.836     , 0.84133333,\n",
              "        0.84666667, 0.848     , 0.82666667, 0.84133333, 0.84666667,\n",
              "        0.848     ]),\n",
              " 'std_test_score': array([0.01115547, 0.01146977, 0.01146977, 0.01146977, 0.01115547,\n",
              "        0.01146977, 0.01146977, 0.01146977, 0.01115547, 0.01146977,\n",
              "        0.01146977, 0.01146977, 0.01115547, 0.01146977, 0.01146977,\n",
              "        0.01146977, 0.00904311, 0.01146977, 0.01115547, 0.01146977,\n",
              "        0.01236482, 0.01115547, 0.01115547, 0.01146977, 0.01236482,\n",
              "        0.01115547, 0.01115547, 0.01146977, 0.01236482, 0.01115547,\n",
              "        0.01115547, 0.01146977, 0.00997775, 0.01146977, 0.01115547,\n",
              "        0.01146977, 0.02508652, 0.016     , 0.01115547, 0.01146977,\n",
              "        0.03172101, 0.016     , 0.01115547, 0.01146977, 0.03022876,\n",
              "        0.016     , 0.01115547, 0.01146977, 0.00997775, 0.01146977,\n",
              "        0.01115547, 0.01146977, 0.02508652, 0.016     , 0.01115547,\n",
              "        0.01146977, 0.02515728, 0.016     , 0.01115547, 0.01146977,\n",
              "        0.02494438, 0.016     , 0.01115547, 0.01146977, 0.00997775,\n",
              "        0.01146977, 0.01115547, 0.01146977, 0.02508652, 0.016     ,\n",
              "        0.01115547, 0.01146977, 0.02515728, 0.016     , 0.01115547,\n",
              "        0.01146977, 0.02494438, 0.016     , 0.01115547, 0.01146977,\n",
              "        0.00997775, 0.01146977, 0.01115547, 0.01146977, 0.02508652,\n",
              "        0.016     , 0.01115547, 0.01146977, 0.02515728, 0.016     ,\n",
              "        0.01115547, 0.01146977, 0.02494438, 0.016     , 0.01115547,\n",
              "        0.01146977]),\n",
              " 'rank_test_score': array([33,  1,  1,  1, 33,  1,  1,  1, 33,  1,  1,  1, 33,  1,  1,  1, 65,\n",
              "        60, 33,  1, 82, 33, 33,  1, 82, 33, 33,  1, 82, 33, 33,  1, 65, 60,\n",
              "        33,  1, 89, 70, 33,  1, 88, 70, 33,  1, 96, 70, 33,  1, 65, 60, 33,\n",
              "         1, 89, 70, 33,  1, 85, 70, 33,  1, 93, 70, 33,  1, 65, 60, 33,  1,\n",
              "        89, 70, 33,  1, 85, 70, 33,  1, 93, 70, 33,  1, 65, 60, 33,  1, 89,\n",
              "        70, 33,  1, 85, 70, 33,  1, 93, 70, 33,  1], dtype=int32)}"
            ]
          },
          "metadata": {},
          "execution_count": 7
        }
      ],
      "source": [
        "# get detailed results of cross-validation\n",
        "grid_search_cv.cv_results_"
      ]
    },
    {
      "cell_type": "code",
      "execution_count": 8,
      "metadata": {
        "colab": {
          "base_uri": "https://localhost:8080/"
        },
        "id": "_hkS_LBj6xeV",
        "outputId": "adfaee50-5ace-4211-c29b-f2c1ba62b77f"
      },
      "outputs": [
        {
          "output_type": "execute_result",
          "data": {
            "text/plain": [
              "DecisionTreeClassifier(max_depth=3, max_leaf_nodes=10, min_samples_split=50,\n",
              "                       random_state=42)"
            ]
          },
          "metadata": {},
          "execution_count": 8
        }
      ],
      "source": [
        "# get the best estimator\n",
        "grid_search_cv.best_estimator_"
      ]
    },
    {
      "cell_type": "code",
      "execution_count": 9,
      "metadata": {
        "colab": {
          "base_uri": "https://localhost:8080/"
        },
        "id": "smXKXJ916xeV",
        "outputId": "f2f0b073-ea87-45b6-f1b9-3f9155f17b28"
      },
      "outputs": [
        {
          "output_type": "execute_result",
          "data": {
            "text/plain": [
              "0.82"
            ]
          },
          "metadata": {},
          "execution_count": 9
        }
      ],
      "source": [
        "#################################################\n",
        "########### 평가 데이터셋에 대한 성능 얻기 #############\n",
        "from sklearn.metrics import accuracy_score\n",
        "\n",
        "y_pred = grid_search_cv.predict(X_test)\n",
        "accuracy_score(y_test, y_pred)\n",
        "\n",
        "\n",
        "#################################################"
      ]
    },
    {
      "cell_type": "code",
      "execution_count": 25,
      "metadata": {
        "id": "o81EfTe-6xeV"
      },
      "outputs": [],
      "source": [
        "def plot_decision_boundary(clf):\n",
        "    #################################################\n",
        "    ########### 결정 트리에 대한 결정 경계 시각화 ###########\n",
        "    x0 = np.linspace(-2, 4, 100)\n",
        "    x1 = np.linspace(-2, 2.5, 100)\n",
        "\n",
        "    x0, x1 = np.meshgrid(x0, x1)\n",
        "    X_new = np.c_[x0.ravel(), x1.ravel()]\n",
        "\n",
        "    y_pred = clf.predict(X_new)\n",
        "    y_pred = y_pred.reshape(x0.shape)\n",
        "\n",
        "    plt.contourf(x0, x1, y_pred, alpha=0.25)\n",
        "\n",
        "    plt.show()\n",
        "    #################################################"
      ]
    },
    {
      "cell_type": "code",
      "execution_count": 24,
      "metadata": {
        "colab": {
          "base_uri": "https://localhost:8080/",
          "height": 304
        },
        "id": "T6xL11Fq6xeW",
        "outputId": "0a50e9a4-70fb-43c1-97b8-a26ec82220be"
      },
      "outputs": [
        {
          "output_type": "stream",
          "name": "stdout",
          "text": [
            "(10000,)\n",
            "(100, 100)\n"
          ]
        },
        {
          "output_type": "display_data",
          "data": {
            "text/plain": [
              "<Figure size 432x288 with 1 Axes>"
            ],
            "image/png": "[encoded data removed]"
          },
          "metadata": {
            "needs_background": "light"
          }
        }
      ],
      "source": [
        "plt.figure(figsize=(6, 4))\n",
        "\n",
        "plot_dataset(X, y)\n",
        "plot_decision_boundary(grid_search_cv)\n",
        "\n",
        "plt.show()"
      ]
    }
  ],
  "metadata": {
    "kernelspec": {
      "display_name": "Python 3",
      "language": "python",
      "name": "python3"
    },
    "language_info": {
      "codemirror_mode": {
        "name": "ipython",
        "version": 3
      },
      "file_extension": ".py",
      "mimetype": "text/x-python",
      "name": "python",
      "nbconvert_exporter": "python",
      "pygments_lexer": "ipython3",
      "version": "3.7.9"
    },
    "colab": {
      "provenance": [],
      "include_colab_link": true
    }
  },
  "nbformat": 4,
  "nbformat_minor": 0
}