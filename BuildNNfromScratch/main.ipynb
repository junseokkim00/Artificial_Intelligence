{
 "cells": [
  {
   "cell_type": "code",
   "execution_count": 3,
   "metadata": {},
   "outputs": [],
   "source": [
    "import numpy as np\n",
    "import pandas as pd\n",
    "from matplotlib import pyplot as plt"
   ]
  },
  {
   "cell_type": "code",
   "execution_count": 4,
   "metadata": {},
   "outputs": [],
   "source": [
    "data = pd.read_csv('./data/digit-recognizer/train.csv')"
   ]
  },
  {
   "cell_type": "code",
   "execution_count": 5,
   "metadata": {},
   "outputs": [
    {
     "data": {
      "text/html": [
       "<div>\n",
       "<style scoped>\n",
       "    .dataframe tbody tr th:only-of-type {\n",
       "        vertical-align: middle;\n",
       "    }\n",
       "\n",
       "    .dataframe tbody tr th {\n",
       "        vertical-align: top;\n",
       "    }\n",
       "\n",
       "    .dataframe thead th {\n",
       "        text-align: right;\n",
       "    }\n",
       "</style>\n",
       "<table border=\"1\" class=\"dataframe\">\n",
       "  <thead>\n",
       "    <tr style=\"text-align: right;\">\n",
       "      <th></th>\n",
       "      <th>label</th>\n",
       "      <th>pixel0</th>\n",
       "      <th>pixel1</th>\n",
       "      <th>pixel2</th>\n",
       "      <th>pixel3</th>\n",
       "      <th>pixel4</th>\n",
       "      <th>pixel5</th>\n",
       "      <th>pixel6</th>\n",
       "      <th>pixel7</th>\n",
       "      <th>pixel8</th>\n",
       "      <th>...</th>\n",
       "      <th>pixel774</th>\n",
       "      <th>pixel775</th>\n",
       "      <th>pixel776</th>\n",
       "      <th>pixel777</th>\n",
       "      <th>pixel778</th>\n",
       "      <th>pixel779</th>\n",
       "      <th>pixel780</th>\n",
       "      <th>pixel781</th>\n",
       "      <th>pixel782</th>\n",
       "      <th>pixel783</th>\n",
       "    </tr>\n",
       "  </thead>\n",
       "  <tbody>\n",
       "    <tr>\n",
       "      <th>0</th>\n",
       "      <td>1</td>\n",
       "      <td>0</td>\n",
       "      <td>0</td>\n",
       "      <td>0</td>\n",
       "      <td>0</td>\n",
       "      <td>0</td>\n",
       "      <td>0</td>\n",
       "      <td>0</td>\n",
       "      <td>0</td>\n",
       "      <td>0</td>\n",
       "      <td>...</td>\n",
       "      <td>0</td>\n",
       "      <td>0</td>\n",
       "      <td>0</td>\n",
       "      <td>0</td>\n",
       "      <td>0</td>\n",
       "      <td>0</td>\n",
       "      <td>0</td>\n",
       "      <td>0</td>\n",
       "      <td>0</td>\n",
       "      <td>0</td>\n",
       "    </tr>\n",
       "    <tr>\n",
       "      <th>1</th>\n",
       "      <td>0</td>\n",
       "      <td>0</td>\n",
       "      <td>0</td>\n",
       "      <td>0</td>\n",
       "      <td>0</td>\n",
       "      <td>0</td>\n",
       "      <td>0</td>\n",
       "      <td>0</td>\n",
       "      <td>0</td>\n",
       "      <td>0</td>\n",
       "      <td>...</td>\n",
       "      <td>0</td>\n",
       "      <td>0</td>\n",
       "      <td>0</td>\n",
       "      <td>0</td>\n",
       "      <td>0</td>\n",
       "      <td>0</td>\n",
       "      <td>0</td>\n",
       "      <td>0</td>\n",
       "      <td>0</td>\n",
       "      <td>0</td>\n",
       "    </tr>\n",
       "    <tr>\n",
       "      <th>2</th>\n",
       "      <td>1</td>\n",
       "      <td>0</td>\n",
       "      <td>0</td>\n",
       "      <td>0</td>\n",
       "      <td>0</td>\n",
       "      <td>0</td>\n",
       "      <td>0</td>\n",
       "      <td>0</td>\n",
       "      <td>0</td>\n",
       "      <td>0</td>\n",
       "      <td>...</td>\n",
       "      <td>0</td>\n",
       "      <td>0</td>\n",
       "      <td>0</td>\n",
       "      <td>0</td>\n",
       "      <td>0</td>\n",
       "      <td>0</td>\n",
       "      <td>0</td>\n",
       "      <td>0</td>\n",
       "      <td>0</td>\n",
       "      <td>0</td>\n",
       "    </tr>\n",
       "    <tr>\n",
       "      <th>3</th>\n",
       "      <td>4</td>\n",
       "      <td>0</td>\n",
       "      <td>0</td>\n",
       "      <td>0</td>\n",
       "      <td>0</td>\n",
       "      <td>0</td>\n",
       "      <td>0</td>\n",
       "      <td>0</td>\n",
       "      <td>0</td>\n",
       "      <td>0</td>\n",
       "      <td>...</td>\n",
       "      <td>0</td>\n",
       "      <td>0</td>\n",
       "      <td>0</td>\n",
       "      <td>0</td>\n",
       "      <td>0</td>\n",
       "      <td>0</td>\n",
       "      <td>0</td>\n",
       "      <td>0</td>\n",
       "      <td>0</td>\n",
       "      <td>0</td>\n",
       "    </tr>\n",
       "    <tr>\n",
       "      <th>4</th>\n",
       "      <td>0</td>\n",
       "      <td>0</td>\n",
       "      <td>0</td>\n",
       "      <td>0</td>\n",
       "      <td>0</td>\n",
       "      <td>0</td>\n",
       "      <td>0</td>\n",
       "      <td>0</td>\n",
       "      <td>0</td>\n",
       "      <td>0</td>\n",
       "      <td>...</td>\n",
       "      <td>0</td>\n",
       "      <td>0</td>\n",
       "      <td>0</td>\n",
       "      <td>0</td>\n",
       "      <td>0</td>\n",
       "      <td>0</td>\n",
       "      <td>0</td>\n",
       "      <td>0</td>\n",
       "      <td>0</td>\n",
       "      <td>0</td>\n",
       "    </tr>\n",
       "  </tbody>\n",
       "</table>\n",
       "<p>5 rows × 785 columns</p>\n",
       "</div>"
      ],
      "text/plain": [
       "   label  pixel0  pixel1  pixel2  pixel3  pixel4  pixel5  pixel6  pixel7  \\\n",
       "0      1       0       0       0       0       0       0       0       0   \n",
       "1      0       0       0       0       0       0       0       0       0   \n",
       "2      1       0       0       0       0       0       0       0       0   \n",
       "3      4       0       0       0       0       0       0       0       0   \n",
       "4      0       0       0       0       0       0       0       0       0   \n",
       "\n",
       "   pixel8  ...  pixel774  pixel775  pixel776  pixel777  pixel778  pixel779  \\\n",
       "0       0  ...         0         0         0         0         0         0   \n",
       "1       0  ...         0         0         0         0         0         0   \n",
       "2       0  ...         0         0         0         0         0         0   \n",
       "3       0  ...         0         0         0         0         0         0   \n",
       "4       0  ...         0         0         0         0         0         0   \n",
       "\n",
       "   pixel780  pixel781  pixel782  pixel783  \n",
       "0         0         0         0         0  \n",
       "1         0         0         0         0  \n",
       "2         0         0         0         0  \n",
       "3         0         0         0         0  \n",
       "4         0         0         0         0  \n",
       "\n",
       "[5 rows x 785 columns]"
      ]
     },
     "execution_count": 5,
     "metadata": {},
     "output_type": "execute_result"
    }
   ],
   "source": [
    "data.head()"
   ]
  },
  {
   "cell_type": "markdown",
   "metadata": {},
   "source": [
    "The column shows 785 which contains one label and each pixel values of the picture."
   ]
  },
  {
   "cell_type": "code",
   "execution_count": 6,
   "metadata": {},
   "outputs": [],
   "source": [
    "data = np.array(data)"
   ]
  },
  {
   "cell_type": "markdown",
   "metadata": {},
   "source": [
    "In order to avoid the generalization of the training set(This avoids the overfitting), we are going to divide the testing data to two parts, one for the dev and the other to be the training set"
   ]
  },
  {
   "cell_type": "code",
   "execution_count": 7,
   "metadata": {},
   "outputs": [
    {
     "data": {
      "text/plain": [
       "(42000, 785)"
      ]
     },
     "execution_count": 7,
     "metadata": {},
     "output_type": "execute_result"
    }
   ],
   "source": [
    "m, n = data.shape\n",
    "m, n"
   ]
  },
  {
   "cell_type": "markdown",
   "metadata": {},
   "source": [
    "we could notice that the number of the image that is on the train.csv is 42000.\n",
    "\n",
    "So m stands for the number of the images and n stands for the number of pixels in a single image"
   ]
  },
  {
   "cell_type": "code",
   "execution_count": 8,
   "metadata": {},
   "outputs": [],
   "source": [
    "np.random.shuffle(data)\n",
    "\n",
    "data_dev = data[0:1000].T\n",
    "Y_dev = data_dev[0]\n",
    "X_dev = data_dev[1:n]\n",
    "X_dev = X_dev / 255\n",
    "\n",
    "data_train = data[1000:m].T\n",
    "Y_train = data_train[0]\n",
    "X_train = data_train[1:n]\n",
    "X_train = X_train / 255"
   ]
  },
  {
   "cell_type": "code",
   "execution_count": 9,
   "metadata": {},
   "outputs": [
    {
     "data": {
      "text/plain": [
       "(784, 41000)"
      ]
     },
     "execution_count": 9,
     "metadata": {},
     "output_type": "execute_result"
    }
   ],
   "source": [
    "X_train[:,:].shape"
   ]
  },
  {
   "cell_type": "code",
   "execution_count": 24,
   "metadata": {},
   "outputs": [],
   "source": [
    "def init_params():\n",
    "    W1 = np.random.rand(10, 784) - 0.5\n",
    "    b1 = np.random.rand(10, 1) - 0.5\n",
    "    W2 = np.random.rand(10, 10) - 0.5\n",
    "    b2 = np.random.rand(10, 1) - 0.5\n",
    "    return W1, b1, W2, b2"
   ]
  },
  {
   "cell_type": "markdown",
   "metadata": {},
   "source": [
    "The first Weight is going to be a matrix which has the size of 10x784\n",
    "The bias would be the matrix of 10x1 and it contains a random number between -0.5 ~ 0.5\n",
    "The second Weight is going to be a matrix which has the size of 10x10\n",
    "The bias would be the matrix of 10x1 and it contains a random number between -0.5 ~ 0.5"
   ]
  },
  {
   "cell_type": "code",
   "execution_count": 63,
   "metadata": {},
   "outputs": [],
   "source": [
    "def ReLU(Z):\n",
    "    return np.maximum(Z, 0)\n",
    "\n",
    "\n",
    "def softmax(Z):\n",
    "    return np.exp(Z) / sum(np.exp(Z))\n",
    "\n",
    "def forward_prop(W1, b1, W2, b2, X):\n",
    "    Z1 = W1.dot(X) + b1\n",
    "    A1 = ReLU(Z1)\n",
    "    Z2 = W2.dot(A1) + b2\n",
    "    A2 = softmax(Z2)\n",
    "    return Z1, A1, Z2, A2\n",
    "\n",
    "def one_hot(Y):\n",
    "    one_hot_Y = np.zeros((Y.size, Y.max() + 1)) # make an array size of {# of test image} x {# of result -> 9 + 1}\n",
    "    one_hot_Y[np.arange(Y.size), Y] = 1 #arange iterates from 0 to Y.size - 1 so it is going to check every row and the each selected Y column is going to be 1\n",
    "    one_hot_Y = one_hot_Y.T\n",
    "    return one_hot_Y\n",
    "\n",
    "def deriv_ReLU(Z):\n",
    "    return Z > 0\n",
    "\n",
    "def back_prop(Z1, A1, Z2, A2, W1, W2, X, Y):\n",
    "    m = Y.size\n",
    "    one_hot_Y = one_hot(Y)\n",
    "    dZ2 = A2 - one_hot_Y\n",
    "    dW2 = (1 / m) * dZ2.dot(A1.T)\n",
    "    db2 = (1 / m) * np.sum(dZ2)\n",
    "    dZ1 = W2.T.dot(dZ2) * deriv_ReLU(Z1)\n",
    "    dW1 = (1 / m) * dZ1.dot(X.T)\n",
    "    db1 = (1 / m) * np.sum(dZ1)\n",
    "    return dW1, db1, dW2, db2\n",
    "\n",
    "def update_params(W1, b1, W2, b2, dW1, db1, dW2, db2, alpha):\n",
    "    W1 = W1 - alpha * dW1\n",
    "    b1 = b1 - alpha * db1\n",
    "    W2 = W2 - alpha * dW2\n",
    "    b2 = b2 - alpha * db2\n",
    "    return W1, b1, W2, b2\n",
    "\n"
   ]
  },
  {
   "cell_type": "code",
   "execution_count": 62,
   "metadata": {},
   "outputs": [],
   "source": [
    "def get_predictions(A2):\n",
    "    return np.argmax(A2, 0)\n",
    "\n",
    "def get_accuracy(predictions, Y):\n",
    "    print(predictions, Y)\n",
    "    return np.sum(predictions == Y) / Y.size\n",
    "\n",
    "def gradient_descent(X, Y, iterations, alpha):\n",
    "    W1, b1, W2, b2 = init_params()\n",
    "    for i in range(iterations):\n",
    "        Z1, A1, Z2, A2 = forward_prop(W1, b1, W2, b2, X)\n",
    "        dW1, db1, dW2, db2 = back_prop(Z1, A1, Z2, A2, W1, W2, X, Y)\n",
    "        W1, b1, W2, b2 = update_params(W1, b1, W2, b2, dW1, db1, dW2, db2, alpha)\n",
    "        \n",
    "        if i % 10 == 0:\n",
    "            print(\"Iteration: \", i)\n",
    "            print(\"Accuracy: \", get_accuracy(get_predictions(A2), Y))\n",
    "\n",
    "    return W1, b1, W2, b2"
   ]
  },
  {
   "cell_type": "code",
   "execution_count": 64,
   "metadata": {},
   "outputs": [
    {
     "name": "stdout",
     "output_type": "stream",
     "text": [
      "Iteration:  0\n",
      "[4 4 9 ... 4 4 4] [6 0 5 ... 7 1 7]\n",
      "Accuracy:  0.10251219512195121\n",
      "Iteration:  10\n",
      "[4 7 2 ... 4 4 0] [6 0 5 ... 7 1 7]\n",
      "Accuracy:  0.1676829268292683\n",
      "Iteration:  20\n",
      "[2 0 2 ... 7 4 0] [6 0 5 ... 7 1 7]\n",
      "Accuracy:  0.2788048780487805\n",
      "Iteration:  30\n",
      "[2 0 2 ... 7 4 0] [6 0 5 ... 7 1 7]\n",
      "Accuracy:  0.34480487804878046\n",
      "Iteration:  40\n",
      "[6 0 2 ... 7 3 0] [6 0 5 ... 7 1 7]\n",
      "Accuracy:  0.4338048780487805\n",
      "Iteration:  50\n",
      "[6 0 2 ... 7 1 0] [6 0 5 ... 7 1 7]\n",
      "Accuracy:  0.4915121951219512\n",
      "Iteration:  60\n",
      "[6 0 2 ... 7 1 0] [6 0 5 ... 7 1 7]\n",
      "Accuracy:  0.5331951219512195\n",
      "Iteration:  70\n",
      "[6 0 2 ... 7 1 0] [6 0 5 ... 7 1 7]\n",
      "Accuracy:  0.5687560975609756\n",
      "Iteration:  80\n",
      "[6 0 2 ... 7 1 0] [6 0 5 ... 7 1 7]\n",
      "Accuracy:  0.5999756097560975\n",
      "Iteration:  90\n",
      "[6 0 3 ... 7 1 0] [6 0 5 ... 7 1 7]\n",
      "Accuracy:  0.622219512195122\n",
      "Iteration:  100\n",
      "[6 0 3 ... 7 1 0] [6 0 5 ... 7 1 7]\n",
      "Accuracy:  0.6410487804878049\n",
      "Iteration:  110\n",
      "[6 0 3 ... 7 1 0] [6 0 5 ... 7 1 7]\n",
      "Accuracy:  0.656\n",
      "Iteration:  120\n",
      "[6 0 3 ... 7 1 0] [6 0 5 ... 7 1 7]\n",
      "Accuracy:  0.6696829268292683\n",
      "Iteration:  130\n",
      "[6 0 3 ... 7 1 0] [6 0 5 ... 7 1 7]\n",
      "Accuracy:  0.6812926829268293\n",
      "Iteration:  140\n",
      "[6 0 3 ... 9 1 0] [6 0 5 ... 7 1 7]\n",
      "Accuracy:  0.6907073170731707\n",
      "Iteration:  150\n",
      "[6 0 2 ... 9 1 0] [6 0 5 ... 7 1 7]\n",
      "Accuracy:  0.7003658536585365\n",
      "Iteration:  160\n",
      "[6 0 2 ... 9 1 0] [6 0 5 ... 7 1 7]\n",
      "Accuracy:  0.7103170731707317\n",
      "Iteration:  170\n",
      "[6 0 2 ... 9 1 0] [6 0 5 ... 7 1 7]\n",
      "Accuracy:  0.7172926829268292\n",
      "Iteration:  180\n",
      "[6 0 2 ... 9 1 0] [6 0 5 ... 7 1 7]\n",
      "Accuracy:  0.724609756097561\n",
      "Iteration:  190\n",
      "[6 0 2 ... 9 1 0] [6 0 5 ... 7 1 7]\n",
      "Accuracy:  0.7311707317073171\n",
      "Iteration:  200\n",
      "[6 0 2 ... 9 1 0] [6 0 5 ... 7 1 7]\n",
      "Accuracy:  0.738390243902439\n",
      "Iteration:  210\n",
      "[6 0 2 ... 9 1 0] [6 0 5 ... 7 1 7]\n",
      "Accuracy:  0.7439512195121951\n",
      "Iteration:  220\n",
      "[6 0 2 ... 9 1 0] [6 0 5 ... 7 1 7]\n",
      "Accuracy:  0.7499268292682927\n",
      "Iteration:  230\n",
      "[6 0 2 ... 9 1 0] [6 0 5 ... 7 1 7]\n",
      "Accuracy:  0.7558292682926829\n",
      "Iteration:  240\n",
      "[6 0 2 ... 9 1 0] [6 0 5 ... 7 1 7]\n",
      "Accuracy:  0.761390243902439\n",
      "Iteration:  250\n",
      "[6 0 2 ... 9 1 0] [6 0 5 ... 7 1 7]\n",
      "Accuracy:  0.7657317073170732\n",
      "Iteration:  260\n",
      "[6 0 2 ... 9 1 0] [6 0 5 ... 7 1 7]\n",
      "Accuracy:  0.7707560975609756\n",
      "Iteration:  270\n",
      "[6 0 2 ... 9 1 0] [6 0 5 ... 7 1 7]\n",
      "Accuracy:  0.7755609756097561\n",
      "Iteration:  280\n",
      "[6 0 2 ... 9 1 0] [6 0 5 ... 7 1 7]\n",
      "Accuracy:  0.7799024390243903\n",
      "Iteration:  290\n",
      "[6 0 2 ... 9 1 0] [6 0 5 ... 7 1 7]\n",
      "Accuracy:  0.7840731707317073\n",
      "Iteration:  300\n",
      "[6 0 2 ... 9 1 0] [6 0 5 ... 7 1 7]\n",
      "Accuracy:  0.7884878048780488\n",
      "Iteration:  310\n",
      "[6 0 2 ... 9 1 0] [6 0 5 ... 7 1 7]\n",
      "Accuracy:  0.7922926829268293\n",
      "Iteration:  320\n",
      "[6 0 2 ... 9 1 0] [6 0 5 ... 7 1 7]\n",
      "Accuracy:  0.7960243902439025\n",
      "Iteration:  330\n",
      "[6 0 2 ... 9 1 0] [6 0 5 ... 7 1 7]\n",
      "Accuracy:  0.7996585365853659\n",
      "Iteration:  340\n",
      "[6 0 2 ... 9 1 0] [6 0 5 ... 7 1 7]\n",
      "Accuracy:  0.8029268292682927\n",
      "Iteration:  350\n",
      "[6 0 2 ... 9 1 0] [6 0 5 ... 7 1 7]\n",
      "Accuracy:  0.8063414634146342\n",
      "Iteration:  360\n",
      "[6 0 2 ... 9 1 0] [6 0 5 ... 7 1 7]\n",
      "Accuracy:  0.809609756097561\n",
      "Iteration:  370\n",
      "[6 0 2 ... 9 1 0] [6 0 5 ... 7 1 7]\n",
      "Accuracy:  0.8126341463414634\n",
      "Iteration:  380\n",
      "[6 0 2 ... 9 1 0] [6 0 5 ... 7 1 7]\n",
      "Accuracy:  0.8158536585365853\n",
      "Iteration:  390\n",
      "[6 0 2 ... 9 1 0] [6 0 5 ... 7 1 7]\n",
      "Accuracy:  0.8182682926829268\n",
      "Iteration:  400\n",
      "[6 0 2 ... 9 1 0] [6 0 5 ... 7 1 7]\n",
      "Accuracy:  0.820780487804878\n",
      "Iteration:  410\n",
      "[6 0 2 ... 9 1 0] [6 0 5 ... 7 1 7]\n",
      "Accuracy:  0.8235853658536585\n",
      "Iteration:  420\n",
      "[6 0 2 ... 9 1 0] [6 0 5 ... 7 1 7]\n",
      "Accuracy:  0.8261463414634146\n",
      "Iteration:  430\n",
      "[6 0 2 ... 9 1 0] [6 0 5 ... 7 1 7]\n",
      "Accuracy:  0.8282926829268292\n",
      "Iteration:  440\n",
      "[6 0 2 ... 9 1 0] [6 0 5 ... 7 1 7]\n",
      "Accuracy:  0.8303414634146341\n",
      "Iteration:  450\n",
      "[6 0 5 ... 9 1 0] [6 0 5 ... 7 1 7]\n",
      "Accuracy:  0.8322195121951219\n",
      "Iteration:  460\n",
      "[6 0 5 ... 9 1 0] [6 0 5 ... 7 1 7]\n",
      "Accuracy:  0.8346585365853658\n",
      "Iteration:  470\n",
      "[6 0 5 ... 9 1 0] [6 0 5 ... 7 1 7]\n",
      "Accuracy:  0.8366097560975609\n",
      "Iteration:  480\n",
      "[6 0 5 ... 9 1 0] [6 0 5 ... 7 1 7]\n",
      "Accuracy:  0.8381463414634146\n",
      "Iteration:  490\n",
      "[6 0 5 ... 9 1 0] [6 0 5 ... 7 1 7]\n",
      "Accuracy:  0.8395609756097561\n"
     ]
    }
   ],
   "source": [
    "W1, b1, W2, b2 = gradient_descent(X_train, Y_train, 500, 0.1)"
   ]
  },
  {
   "cell_type": "code",
   "execution_count": 65,
   "metadata": {},
   "outputs": [],
   "source": [
    "def make_predictions(X, W1, b1, W2, b2):\n",
    "    _, _, _, A2 = forward_prop(W1, b1, W2, b2, X)\n",
    "    predictions = get_predictions(A2)\n",
    "    return predictions"
   ]
  },
  {
   "cell_type": "markdown",
   "metadata": {},
   "source": [
    "The function \"make_predictions\" stands for after the forward propagation you could analyze the output via the input that you inserted"
   ]
  },
  {
   "cell_type": "code",
   "execution_count": 66,
   "metadata": {},
   "outputs": [],
   "source": [
    "def test_prediction(index, W1, b1, W2, b2):\n",
    "    current_image = X_train[:, index, None]\n",
    "    prediction = make_predictions(current_image, W1, b1, W2, b2)\n",
    "    label = Y_train[index]\n",
    "    print(\"Prediction: \", prediction)\n",
    "    print(\"Label: \", label)\n",
    "\n",
    "    current_image = current_image.reshape((28,28)) * 255\n",
    "    plt.gray()\n",
    "    plt.imshow(current_image, interpolation='nearest')\n",
    "    plt.show()"
   ]
  },
  {
   "cell_type": "code",
   "execution_count": 68,
   "metadata": {},
   "outputs": [
    {
     "name": "stdout",
     "output_type": "stream",
     "text": [
      "Prediction:  [7]\n",
      "Label:  7\n"
     ]
    },
    {
     "data": {
      "image/png": "[encoded data removed]",
      "text/plain": [
       "<Figure size 432x288 with 1 Axes>"
      ]
     },
     "metadata": {
      "needs_background": "light"
     },
     "output_type": "display_data"
    }
   ],
   "source": [
    "test_prediction(3, W1, b1, W2, b2)"
   ]
  },
  {
   "cell_type": "code",
   "execution_count": 69,
   "metadata": {},
   "outputs": [
    {
     "name": "stdout",
     "output_type": "stream",
     "text": [
      "[2 6 6 8 2 9 1 2 8 7 3 0 7 5 2 5 9 9 5 4 8 1 1 9 4 3 3 6 0 2 7 7 1 7 2 6 3\n",
      " 4 0 6 0 6 1 0 9 2 0 9 3 2 9 6 2 4 8 5 2 9 6 8 2 9 0 8 0 8 3 8 9 5 1 0 8 0\n",
      " 2 8 1 6 3 4 4 8 5 3 1 6 3 3 3 9 1 1 5 7 3 6 4 9 8 0 2 5 7 0 3 0 2 9 7 9 6\n",
      " 7 7 1 0 6 6 2 3 3 3 7 5 6 3 4 5 1 4 9 5 0 0 8 3 1 0 6 1 7 3 1 7 5 2 8 9 2\n",
      " 7 9 3 7 8 5 7 5 5 0 5 6 0 1 4 7 1 1 6 3 7 1 4 9 5 3 1 3 9 9 7 5 1 3 2 7 4\n",
      " 1 4 7 0 8 3 2 4 8 1 3 2 6 9 8 3 3 9 4 9 2 6 7 3 9 0 8 8 1 1 3 4 7 2 7 6 5\n",
      " 9 2 5 9 1 3 1 5 7 3 8 0 4 4 6 0 2 0 3 6 1 8 1 2 4 3 3 8 3 3 9 3 5 9 4 9 4\n",
      " 1 6 8 5 9 1 4 6 0 4 7 6 1 8 3 0 7 0 9 8 7 0 2 0 5 0 3 6 0 1 1 0 2 7 7 6 1\n",
      " 0 7 7 6 6 1 0 5 5 3 4 1 0 2 1 8 6 1 3 8 1 4 4 6 2 8 3 3 4 4 1 8 0 4 4 3 4\n",
      " 5 0 3 2 0 1 0 6 0 2 4 8 6 2 9 2 5 8 3 4 0 7 2 4 7 3 7 4 4 2 9 0 9 1 6 8 1\n",
      " 9 7 9 2 8 9 8 2 1 1 0 0 3 6 0 6 8 9 4 3 8 4 4 5 3 6 0 9 8 6 6 1 2 9 2 2 1\n",
      " 1 4 1 6 9 3 0 7 1 0 8 2 6 0 3 9 7 9 3 4 1 1 7 6 4 8 5 2 1 9 2 5 4 3 5 8 1\n",
      " 7 6 8 0 5 3 1 6 7 0 1 6 8 4 8 6 7 6 2 7 0 7 0 6 5 3 8 0 0 6 7 5 4 4 0 4 2\n",
      " 0 9 3 0 9 8 3 9 1 6 4 3 5 9 0 4 6 5 2 9 6 3 1 5 5 0 0 7 4 2 8 9 9 2 2 6 7\n",
      " 6 2 7 5 2 8 6 2 2 9 1 0 7 0 7 7 6 5 8 3 4 1 1 6 8 3 4 1 1 4 9 6 8 7 7 4 4\n",
      " 3 9 5 0 0 1 1 5 4 9 9 9 1 7 3 5 6 3 0 4 1 8 8 3 0 7 1 5 9 2 9 6 8 9 4 1 3\n",
      " 3 5 0 9 5 9 7 1 1 0 6 4 4 9 0 3 6 2 5 0 3 9 7 2 1 6 3 0 7 3 9 3 8 1 5 2 2\n",
      " 6 6 0 2 6 8 4 3 6 8 2 6 9 6 5 5 4 2 5 6 7 0 1 8 0 1 5 6 4 7 4 3 5 7 1 4 0\n",
      " 2 4 3 6 8 8 4 6 8 3 5 7 6 2 2 4 2 2 1 2 2 9 6 7 3 3 8 2 6 4 0 2 9 2 5 5 8\n",
      " 7 1 5 3 1 9 9 6 0 3 5 2 5 6 9 6 2 7 8 2 4 6 9 6 9 5 8 9 7 8 0 3 8 6 9 6 8\n",
      " 5 2 6 2 6 0 3 4 2 1 5 8 8 6 8 1 7 4 9 7 6 3 1 2 3 2 1 6 0 4 2 0 7 8 4 8 9\n",
      " 1 5 9 1 7 6 0 6 7 8 5 7 6 4 9 6 9 3 8 4 0 9 2 1 8 3 2 3 5 6 9 2 8 7 8 3 0\n",
      " 5 8 7 1 7 6 9 9 1 4 5 0 8 6 6 3 6 0 1 8 3 1 4 5 1 4 9 8 3 8 9 4 7 2 7 1 6\n",
      " 8 5 0 5 6 6 0 0 2 0 8 6 4 2 7 4 3 7 3 1 9 1 8 3 5 0 3 1 1 9 0 9 3 7 9 2 2\n",
      " 2 5 7 6 7 7 7 5 6 9 9 1 9 3 9 8 5 3 0 3 7 8 8 8 9 1 3 9 8 2 9 6 6 6 9 2 6\n",
      " 0 6 1 6 9 8 2 2 4 9 2 4 9 7 7 4 8 6 2 1 6 7 4 6 2 0 7 6 4 4 8 2 1 3 7 1 5\n",
      " 8 1 2 1 7 1 4 3 5 7 8 2 5 9 7 0 1 1 0 2 8 0 9 4 4 0 0 8 8 7 3 6 1 4 6 0 4\n",
      " 0] [3 6 2 2 2 9 1 2 5 8 3 0 7 5 2 5 4 9 5 4 8 1 1 9 4 1 3 6 0 2 7 7 1 7 2 6 3\n",
      " 4 0 6 0 5 1 0 9 2 0 9 3 2 9 5 2 4 8 5 2 9 6 2 2 9 0 3 0 8 3 4 2 5 1 1 8 0\n",
      " 2 5 1 6 3 4 4 8 5 8 1 6 3 3 5 9 1 1 3 7 3 6 9 9 8 0 8 8 7 0 3 0 2 7 7 7 6\n",
      " 7 7 1 0 6 6 2 3 3 3 7 5 6 3 4 8 1 4 9 5 0 0 8 3 1 0 8 1 7 9 1 7 5 2 8 9 2\n",
      " 9 9 3 7 5 0 7 5 5 0 5 6 0 1 4 7 1 1 6 3 7 1 4 9 5 3 1 3 9 4 7 5 1 3 2 7 4\n",
      " 1 4 7 0 5 9 2 5 4 1 3 2 6 9 8 3 3 9 4 9 2 6 7 3 9 5 8 8 1 1 3 4 7 2 7 6 5\n",
      " 9 2 5 9 1 3 1 5 7 3 8 0 4 4 6 0 2 0 5 6 1 8 1 2 4 3 5 8 3 3 9 3 5 9 4 9 4\n",
      " 6 6 8 5 9 1 4 6 0 4 7 6 1 5 3 0 7 7 9 8 7 0 2 0 5 0 3 6 0 1 1 0 2 7 9 6 1\n",
      " 0 7 7 6 6 1 0 5 5 3 4 1 0 7 1 5 6 1 3 8 1 4 4 2 2 8 3 3 4 4 1 8 0 4 4 3 4\n",
      " 5 0 3 2 0 1 0 6 0 2 4 8 5 2 4 2 5 4 3 4 0 7 2 4 7 3 7 4 4 2 9 0 9 1 6 8 1\n",
      " 9 7 9 2 5 9 8 2 1 1 0 0 8 3 0 6 5 9 6 3 8 4 4 8 5 6 0 8 8 6 6 1 2 7 2 2 1\n",
      " 1 4 1 6 9 3 0 9 1 0 8 2 2 0 3 4 7 9 3 9 1 1 7 6 9 8 8 2 1 9 2 5 4 3 0 8 1\n",
      " 7 6 8 0 5 3 1 2 7 0 1 6 8 4 8 6 7 6 2 7 0 7 0 6 5 3 2 5 0 6 7 5 4 4 0 9 2\n",
      " 0 9 0 0 9 9 3 4 1 6 4 3 5 4 0 9 6 5 2 3 6 5 1 5 5 0 0 7 4 2 8 4 9 3 2 6 7\n",
      " 6 2 7 5 2 8 6 2 4 9 1 0 7 5 7 7 2 5 8 3 4 1 1 4 2 3 4 1 1 4 9 6 8 7 7 4 4\n",
      " 3 9 5 0 0 1 1 5 4 9 9 9 1 7 3 5 6 3 0 4 1 8 8 3 0 7 1 5 9 2 9 4 8 9 4 1 3\n",
      " 8 5 0 9 5 9 7 1 1 0 6 4 4 9 0 3 6 2 5 0 3 9 7 2 1 6 3 0 7 3 9 3 8 1 5 2 2\n",
      " 6 6 0 7 6 8 4 3 6 8 2 6 9 6 5 5 4 2 5 6 7 0 1 4 0 2 5 6 4 7 4 3 5 7 1 4 0\n",
      " 2 4 3 6 8 8 4 6 8 8 5 7 5 2 2 9 2 2 1 2 2 9 6 7 3 3 8 2 6 4 2 2 9 2 8 5 8\n",
      " 7 1 5 2 1 9 9 6 0 3 5 2 5 6 7 6 0 9 8 2 4 6 9 6 9 5 2 5 7 8 0 2 5 6 9 6 8\n",
      " 3 2 6 2 6 0 8 4 5 1 9 8 8 6 8 7 7 6 9 7 6 3 5 2 3 2 1 6 0 4 6 0 7 5 4 8 9\n",
      " 1 5 9 1 7 8 0 4 7 8 5 9 6 2 9 6 9 2 8 4 0 9 2 1 8 3 2 3 5 6 9 2 8 7 8 3 0\n",
      " 5 8 7 1 3 4 9 9 1 4 5 0 8 5 6 3 6 0 1 8 3 1 4 5 7 4 9 8 3 2 9 4 7 2 7 1 6\n",
      " 2 3 0 5 5 6 0 0 2 0 8 6 4 2 7 4 8 7 3 1 4 1 8 8 5 0 3 1 1 9 0 9 3 7 9 2 2\n",
      " 2 5 9 6 7 7 7 5 6 9 9 1 4 3 9 2 5 3 0 3 7 8 8 8 9 1 3 9 1 2 9 6 6 6 9 2 6\n",
      " 0 6 1 6 9 9 2 2 4 7 2 9 4 7 7 4 4 6 2 1 6 7 4 6 4 0 7 6 4 6 3 2 1 5 7 1 5\n",
      " 8 1 2 1 7 1 4 3 5 7 2 2 3 9 7 0 1 1 0 2 8 0 7 4 7 0 0 3 8 7 3 6 1 4 6 0 4\n",
      " 0]\n"
     ]
    },
    {
     "data": {
      "text/plain": [
       "0.858"
      ]
     },
     "execution_count": 69,
     "metadata": {},
     "output_type": "execute_result"
    }
   ],
   "source": [
    "dev_predictions = make_predictions(X_dev, W1, b1, W2, b2)\n",
    "get_accuracy(dev_predictions, Y_dev)"
   ]
  }
 ],
 "metadata": {
  "kernelspec": {
   "display_name": "Python 3.6.7 ('BuildNNfromScratch': venv)",
   "language": "python",
   "name": "python3"
  },
  "language_info": {
   "codemirror_mode": {
    "name": "ipython",
    "version": 3
   },
   "file_extension": ".py",
   "mimetype": "text/x-python",
   "name": "python",
   "nbconvert_exporter": "python",
   "pygments_lexer": "ipython3",
   "version": "3.6.7"
  },
  "orig_nbformat": 4,
  "vscode": {
   "interpreter": {
    "hash": "5f7a0ec8c6b9d00e0abb84d4f289da08667271dcc04553c86506e2829badc508"
   }
  }
 },
 "nbformat": 4,
 "nbformat_minor": 2
}
